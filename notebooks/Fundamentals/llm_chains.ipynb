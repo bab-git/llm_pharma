{
 "cells": [
  {
   "cell_type": "markdown",
   "metadata": {},
   "source": [
    "# Using Langchain to generate LLM chains\n",
    "\n",
    "In this notebook, we use Langchain to generate LLM chains.   \n",
    "The goal is to process the input information in several individual steps.  \n",
    "Such processing pipeline reduces the hallucination of LLMs and also lead to more precise and controlable performance.   \n",
    "\n",
    "**We'll cover the following:**\n",
    "- Sequential Chain\n",
    "- Router Chain\n",
    "\n",
    "**Use case:**\n",
    "- Patients inquiry analysis\n",
    "- Patient symptoms categorization\n"
   ]
  },
  {
   "cell_type": "code",
   "execution_count": 1,
   "metadata": {},
   "outputs": [],
   "source": [
    "import os\n",
    "import pprint\n",
    "\n",
    "from dotenv import load_dotenv, find_dotenv\n",
    "_ = load_dotenv(find_dotenv()) # read local .env file"
   ]
  },
  {
   "cell_type": "code",
   "execution_count": 2,
   "metadata": {},
   "outputs": [],
   "source": [
    "# A function for printing nicely\n",
    "def nprint(text, indent=2):\n",
    "    pp = pprint.PrettyPrinter(indent=indent)\n",
    "    pp.pprint(text)"
   ]
  },
  {
   "cell_type": "markdown",
   "metadata": {},
   "source": [
    "# Loading Parameters"
   ]
  },
  {
   "cell_type": "code",
   "execution_count": 3,
   "metadata": {},
   "outputs": [],
   "source": [
    "modelID = \"gpt-3.5-turbo\""
   ]
  },
  {
   "cell_type": "markdown",
   "metadata": {},
   "source": [
    "# Patient symptoms analysis - Sequential Chain:\n",
    "\n",
    "Based on the patient's input information, we want the language model to make a diagnosis and a recommendation to a practitioner.  \n",
    "As the first try, we do it with a single call to the LLM.\n"
   ]
  },
  {
   "cell_type": "code",
   "execution_count": 4,
   "metadata": {},
   "outputs": [],
   "source": [
    "from langchain_openai import ChatOpenAI\n",
    "llm = ChatOpenAI(temperature=0, model=modelID)\n"
   ]
  },
  {
   "cell_type": "markdown",
   "metadata": {},
   "source": [
    "The chain breakdown is as follows:\n",
    "1. translate the input inquiry to english.\n",
    "2. Symptom Extraction Agent Prompt.\n",
    "3. symptoms categorization.\n",
    "4. summarization and medical recommendation.\n",
    "5. Finding the language of the original inquiry.\n",
    "6. Translating the summary to original language"
   ]
  },
  {
   "cell_type": "markdown",
   "metadata": {},
   "source": [
    "The first chain: Translate the input inquiry to english"
   ]
  },
  {
   "cell_type": "code",
   "execution_count": 6,
   "metadata": {},
   "outputs": [
    {
     "name": "stdout",
     "output_type": "stream",
     "text": [
      "================================\u001b[1m Human Message \u001b[0m=================================\n",
      "\n",
      "Translate the following patient input from its native language to English while preserving medical terms and symptoms.If the input language is in English just give the input inquary to the output.\n",
      "\n",
      "inquiry: \u001b[33;1m\u001b[1;3m{inquiry}\u001b[0m\n"
     ]
    }
   ],
   "source": [
    "prompt1.pretty_print()"
   ]
  },
  {
   "cell_type": "code",
   "execution_count": 5,
   "metadata": {},
   "outputs": [
    {
     "name": "stderr",
     "output_type": "stream",
     "text": [
      "d:\\Portfolio\\LLMs Applications\\.llmenv\\Lib\\site-packages\\langchain_core\\_api\\deprecation.py:119: LangChainDeprecationWarning: The class `LLMChain` was deprecated in LangChain 0.1.17 and will be removed in 0.3.0. Use RunnableSequence, e.g., `prompt | llm` instead.\n",
      "  warn_deprecated(\n"
     ]
    }
   ],
   "source": [
    "from langchain.prompts import ChatPromptTemplate\n",
    "# from langchain_core.output_parsers import StrOutputParser\n",
    "from langchain.chains import LLMChain\n",
    "\n",
    "# prompt template 1: translating the input inquiry to english\n",
    "prompt1 = ChatPromptTemplate.from_template(\n",
    "    \"Translate the following patient input from its native language to English while preserving medical terms and symptoms.\"\n",
    "    \"If the input language is in English just give the input inquary to the output.\"\n",
    "    \"\\n\\ninquiry: {inquiry}\"\n",
    ")\n",
    "# chain 1: \n",
    "chain1 = LLMChain(llm=llm, \n",
    "                  prompt=prompt1, \n",
    "                  output_key=\"English_inquiry\"\n",
    "                  )\n",
    "\n"
   ]
  },
  {
   "cell_type": "markdown",
   "metadata": {},
   "source": [
    "The second chain: Symptom Extraction"
   ]
  },
  {
   "cell_type": "code",
   "execution_count": 8,
   "metadata": {},
   "outputs": [],
   "source": [
    "prompt2 = ChatPromptTemplate.from_template(\n",
    "    \"Your role is to identify and extract specific medical symptoms from patient descriptions in the following inquiry.\"\n",
    "    \"Symptoms are the subjective experiences reported by the patient, such as pain, dizziness, or nausea, which indicate a potential health issue.\" \n",
    "    \"Accurate extraction of symptoms is critical for diagnosis and treatment planning.\"    \n",
    "    \"\\n\\nInquiry: {English_inquiry}\"\n",
    ")\n",
    "\n",
    "chain2 = LLMChain(llm=llm, \n",
    "                  prompt=prompt2, \n",
    "                  output_key=\"Symptoms\"\n",
    "                  )"
   ]
  },
  {
   "cell_type": "markdown",
   "metadata": {},
   "source": [
    "The third chain: symptoms categorization"
   ]
  },
  {
   "cell_type": "code",
   "execution_count": 18,
   "metadata": {},
   "outputs": [],
   "source": [
    "prompt3 = ChatPromptTemplate.from_template(\n",
    "    \"As a Symptom Analysis Agent, your role is to analyze the followin list of extracted symptoms and categorize them into relevant medical fields.\"\n",
    "    \"This categorization helps in identifying potential underlying conditions and determining the appropriate medical specialty for further evaluation.\"\n",
    "    \"The medical fields include, but are not limited to, neurology, infectious diseases, cardiology, orthopedics, and gastroenterology\"\n",
    "    \"\\n\\nSymptoms: {Symptoms}\"\n",
    ")\n",
    "\n",
    "chain3 = LLMChain(llm=llm, \n",
    "                  prompt=prompt3, \n",
    "                  output_key=\"categorized_symptoms\"\n",
    "                  )"
   ]
  },
  {
   "cell_type": "markdown",
   "metadata": {},
   "source": [
    "The fourth chain: summarization and medical recommendation"
   ]
  },
  {
   "cell_type": "code",
   "execution_count": 19,
   "metadata": {},
   "outputs": [],
   "source": [
    "prompt4 = ChatPromptTemplate.from_template(\n",
    "    \"As a Medical Summarization Agent, your task is to compile and summarize the symptoms and their categorization into a coherent, concise summary that is easily understandable by a human healthcare practitioner.\"\n",
    "    \"Your summary should accurately reflect the patient's condition, include any pertinent details from the analysis, and provide clear recommendations for the next steps.\" \n",
    "    \"Your ultimate goal is to aid healthcare practitioners in quickly understanding the patient's situation and determining the appropriate course of action.\"\n",
    "    \"\\n\\nCategorized symptoms: {categorized_symptoms}\"\n",
    ")\n",
    "\n",
    "chain4 = LLMChain(llm=llm, \n",
    "                  prompt=prompt4, \n",
    "                  output_key=\"Final_Summary\"\n",
    "                  )"
   ]
  },
  {
   "cell_type": "markdown",
   "metadata": {},
   "source": [
    "The fifth chain: Finding the language of the original inquiry"
   ]
  },
  {
   "cell_type": "code",
   "execution_count": 53,
   "metadata": {},
   "outputs": [],
   "source": [
    "prompt5 = ChatPromptTemplate.from_template(\n",
    "    \"Find the language of the original inquiry.\"    \n",
    "    \"\\n\\noriginal inquary: {inquiry}\"\n",
    ")\n",
    "\n",
    "chain5 = LLMChain(llm=llm,\n",
    "                  prompt=prompt5,\n",
    "                  output_key=\"language\"\n",
    "                  )"
   ]
  },
  {
   "cell_type": "markdown",
   "metadata": {},
   "source": [
    "The sixth chain: Translating the summary to original language"
   ]
  },
  {
   "cell_type": "code",
   "execution_count": 54,
   "metadata": {},
   "outputs": [],
   "source": [
    "prompt6 = ChatPromptTemplate.from_template(\n",
    "    \"Translate this medical summary and recommendaton to the language of the original inquiry.\"    \n",
    "    \"\\n\\n summary: {Final_Summary} \\n\\nlanguage: {language}\"\n",
    ")\n",
    "\n",
    "chain6 = LLMChain(llm=llm, \n",
    "                  prompt=prompt6, \n",
    "                  output_key=\"Translated_final_Summary\"\n",
    "                  )"
   ]
  },
  {
   "cell_type": "markdown",
   "metadata": {},
   "source": [
    "Linking all chains together"
   ]
  },
  {
   "cell_type": "code",
   "execution_count": 58,
   "metadata": {},
   "outputs": [
    {
     "data": {
      "text/plain": [
       "['English_inquiry',\n",
       " 'Symptoms',\n",
       " 'categorized_symptoms',\n",
       " 'Final_Summary',\n",
       " 'language',\n",
       " 'Translated_final_Summary']"
      ]
     },
     "execution_count": 58,
     "metadata": {},
     "output_type": "execute_result"
    }
   ],
   "source": [
    "from langchain.chains import SequentialChain\n",
    "\n",
    "overall_chain = SequentialChain(\n",
    "    chains=[chain1, chain2, chain3, chain4, chain5, chain6],\n",
    "    input_variables=[\"inquiry\"],\n",
    "    output_variables=[\"English_inquiry\", \"Symptoms\", \"categorized_symptoms\", \"Final_Summary\", \"language\", \"Translated_final_Summary\"],\n",
    "    verbose=True\n",
    ")\n",
    "overall_chain.output_variables"
   ]
  },
  {
   "cell_type": "code",
   "execution_count": 59,
   "metadata": {},
   "outputs": [
    {
     "name": "stdout",
     "output_type": "stream",
     "text": [
      "\n",
      "\n",
      "\u001b[1m> Entering new SequentialChain chain...\u001b[0m\n",
      "\n",
      "\u001b[1m> Finished chain.\u001b[0m\n"
     ]
    }
   ],
   "source": [
    "inquiry = \"\"\"\n",
    "Seit einigen Tagen habe ich starke Kopfschmerzen und fühle mich sehr schwach. \\n\n",
    "Ich habe auch hohes Fieber und Schüttelfrost. Außerdem habe ich bemerkt, dass meine Sehkraft sich verschlechtert hat und ich manchmal verschwommen sehe.\\n\n",
    "Meine Gelenke tun weh, besonders in den Knien und Handgelenken, und ich habe Schwierigkeiten, mich zu bewegen.\\n\n",
    "Ich habe auch Übelkeit und manchmal erbreche ich. Mein Appetit ist stark zurückgegangen und ich fühle mich ständig müde.\\n\n",
    "In letzter Zeit habe ich auch leichte Atembeschwerden bemerkt, besonders nachts.\\n \n",
    "Können Sie mir helfen herauszufinden, was mit mir los ist?\n",
    "\"\"\"\n",
    "completion = overall_chain(inquiry)\n",
    "completion"
   ]
  },
  {
   "cell_type": "code",
   "execution_count": 61,
   "metadata": {},
   "outputs": [
    {
     "name": "stdout",
     "output_type": "stream",
     "text": [
      "For a few days now, I have been experiencing severe headaches and feeling very weak.\n",
      "\n",
      "I also have a high fever and chills. Additionally, I have noticed that my vision has deteriorated and I sometimes see things blurry.\n",
      "\n",
      "My joints are painful, especially in my knees and wrists, and I have difficulty moving.\n",
      "\n",
      "I also have nausea and sometimes vomit. My appetite has significantly decreased and I constantly feel tired.\n",
      "\n",
      "Lately, I have also noticed slight difficulty breathing, especially at night.\n",
      "\n",
      "Can you help me figure out what is wrong with me?\n"
     ]
    }
   ],
   "source": [
    "print(completion['English_inquiry'])"
   ]
  },
  {
   "cell_type": "code",
   "execution_count": 62,
   "metadata": {},
   "outputs": [
    {
     "name": "stdout",
     "output_type": "stream",
     "text": [
      "Symptoms identified from the patient description:\n",
      "1. Severe headaches\n",
      "2. Feeling very weak\n",
      "3. High fever\n",
      "4. Chills\n",
      "5. Deteriorated vision\n",
      "6. Blurry vision\n",
      "7. Painful joints (especially in knees and wrists)\n",
      "8. Difficulty moving\n",
      "9. Nausea\n",
      "10. Vomiting\n",
      "11. Decreased appetite\n",
      "12. Constant fatigue\n",
      "13. Slight difficulty breathing (especially at night)\n"
     ]
    }
   ],
   "source": [
    "print(completion['Symptoms'])"
   ]
  },
  {
   "cell_type": "code",
   "execution_count": 63,
   "metadata": {},
   "outputs": [
    {
     "name": "stdout",
     "output_type": "stream",
     "text": [
      "Based on the list of symptoms provided, the categorization into relevant medical fields would be as follows:\n",
      "\n",
      "1. Severe headaches, Deteriorated vision, Blurry vision - Neurology\n",
      "2. Feeling very weak, Constant fatigue - General Medicine/Internal Medicine\n",
      "3. High fever, Chills, Nausea, Vomiting, Decreased appetite - Infectious Diseases\n",
      "4. Painful joints (especially in knees and wrists), Difficulty moving - Orthopedics\n",
      "5. Slight difficulty breathing (especially at night) - Pulmonology/Respiratory Medicine\n",
      "\n",
      "It is important to note that some symptoms may overlap across different medical fields, and a comprehensive evaluation by a healthcare professional is necessary to determine the underlying condition and appropriate treatment plan.\n"
     ]
    }
   ],
   "source": [
    "print(completion['categorized_symptoms'])"
   ]
  },
  {
   "cell_type": "code",
   "execution_count": 64,
   "metadata": {},
   "outputs": [
    {
     "name": "stdout",
     "output_type": "stream",
     "text": [
      "('Summary:\\n'\n",
      " '\\n'\n",
      " 'The patient presents with a range of symptoms spanning multiple medical '\n",
      " 'fields. They are experiencing severe headaches, deteriorated vision, and '\n",
      " 'blurry vision, indicating a potential neurological issue. Additionally, they '\n",
      " 'report feeling very weak, constant fatigue, high fever, chills, nausea, '\n",
      " 'vomiting, decreased appetite, painful joints (especially in knees and '\n",
      " 'wrists), difficulty moving, and slight difficulty breathing (especially at '\n",
      " 'night).\\n'\n",
      " '\\n'\n",
      " 'Given the complexity and variety of symptoms, a thorough evaluation by '\n",
      " 'healthcare professionals in neurology, general medicine/internal medicine, '\n",
      " 'infectious diseases, orthopedics, and pulmonology/respiratory medicine is '\n",
      " 'recommended. Further diagnostic tests and imaging may be necessary to '\n",
      " 'determine the underlying condition and develop an appropriate treatment '\n",
      " \"plan. Immediate medical attention is advised to address the patient's \"\n",
      " 'symptoms and provide necessary care.')\n"
     ]
    }
   ],
   "source": [
    "nprint(completion['Final_Summary'])"
   ]
  },
  {
   "cell_type": "code",
   "execution_count": 66,
   "metadata": {},
   "outputs": [
    {
     "name": "stdout",
     "output_type": "stream",
     "text": [
      "'German'\n",
      "('Zusammenfassung:\\n'\n",
      " '\\n'\n",
      " 'Der Patient zeigt eine Vielzahl von Symptomen, die mehrere medizinische '\n",
      " 'Bereiche betreffen. Er leidet unter starken Kopfschmerzen, verschlechtertem '\n",
      " 'Sehvermögen und verschwommenem Sehen, was auf ein mögliches neurologisches '\n",
      " 'Problem hinweist. Darüber hinaus berichtet er von starker Schwäche, '\n",
      " 'ständiger Müdigkeit, hohem Fieber, Schüttelfrost, Übelkeit, Erbrechen, '\n",
      " 'verminderter Appetit, schmerzhaften Gelenken (insbesondere in den Knien und '\n",
      " 'Handgelenken), Bewegungsschwierigkeiten und leichten Atembeschwerden '\n",
      " '(insbesondere nachts).\\n'\n",
      " '\\n'\n",
      " 'Aufgrund der Komplexität und Vielfalt der Symptome wird eine gründliche '\n",
      " 'Untersuchung durch Fachleute im Bereich Neurologie, Allgemeinmedizin/Innere '\n",
      " 'Medizin, Infektionskrankheiten, Orthopädie und Pulmonologie/Atemwegsmedizin '\n",
      " 'empfohlen. Weitere diagnostische Tests und Bildgebung können erforderlich '\n",
      " 'sein, um die zugrunde liegende Erkrankung festzustellen und einen '\n",
      " 'angemessenen Behandlungsplan zu entwickeln. Eine sofortige medizinische '\n",
      " 'Behandlung wird empfohlen, um die Symptome des Patienten zu behandeln und '\n",
      " 'die notwendige Pflege zu gewährleisten.')\n"
     ]
    }
   ],
   "source": [
    "nprint(completion['language'])\n",
    "nprint(completion['Translated_final_Summary'])"
   ]
  },
  {
   "cell_type": "markdown",
   "metadata": {},
   "source": [
    "# Patient symptoms analysis - Router Chain:\n",
    "\n",
    "Now we want to perform a symptom based chain call.  \n",
    "Each llm chain is customized for one specific medical department and report the result to the relevant specialist in that department.  \n",
    "For this purpose, we use the Router Chain module of Langchain.  \n",
    "\n",
    "**Note:** This module's functionality is close to what we can do with LLM agents and tools, but at a simpler level.\n"
   ]
  },
  {
   "cell_type": "markdown",
   "metadata": {},
   "source": [
    "## Router Chain Structure:\n",
    "We will have the following department customized chains. They can summarize and give medical recommendations for the medical chief of the department.\n",
    "1. Cardiology Chain\n",
    "2. Neurology Chain\n",
    "3. Gastroenterology Chain\n",
    "4. Orthopedics Chain\n",
    "\n",
    "Then a router chain select the appropriate department based on its understanding from the patient symptoms."
   ]
  },
  {
   "cell_type": "markdown",
   "metadata": {},
   "source": [
    "Creating chain descriptions:"
   ]
  },
  {
   "cell_type": "code",
   "execution_count": 23,
   "metadata": {},
   "outputs": [
    {
     "data": {
      "text/plain": [
       "[{'name': 'Cardiology',\n",
       "  'description': 'Processes patient symptoms to identify and analyze potential cardiovascular conditions',\n",
       "  'prompt_template': '\\n    You are a Cardiology specialist. A patient has reported the following symptoms.    Extract, and analyze the symptoms to identify potential cardiovascular conditions.    Summarize your findings and provide recommendations to the chief medical officer.    \\n\\n    Symptoms: \\n    {input}\\n    '},\n",
       " {'name': 'Neurology',\n",
       "  'description': 'Processes patient symptoms to identify and analyze potential neurological conditions',\n",
       "  'prompt_template': '\\n    You are a Neurology specialist. A patient has reported the following symptoms.    Extract, and analyze the symptoms to identify potential neurological conditions.    Summarize your findings and provide recommendations to the chief medical officer.    \\n\\n    Symptoms: \\n    {input}\\n    '},\n",
       " {'name': 'Orthopedics',\n",
       "  'description': 'Processes patient symptoms to identify and analyze potential orthopedic conditions',\n",
       "  'prompt_template': '\\n    You are a Orthopedics specialist. A patient has reported the following symptoms.    Extract, and analyze the symptoms to identify potential orthopedic conditions.    Summarize your findings and provide recommendations to the chief medical officer.    \\n\\n    Symptoms: \\n    {input}\\n    '},\n",
       " {'name': 'Gastroenterology',\n",
       "  'description': 'Processes patient symptoms to identify and analyze potential gastroenterological conditions',\n",
       "  'prompt_template': '\\n    You are a Gastroenterology specialist. A patient has reported the following symptoms.    Extract, and analyze the symptoms to identify potential gastroenterological conditions.    Summarize your findings and provide recommendations to the chief medical officer.    \\n\\n    Symptoms: \\n    {input}\\n    '}]"
      ]
     },
     "execution_count": 23,
     "metadata": {},
     "output_type": "execute_result"
    }
   ],
   "source": [
    "prompt_infos = list()\n",
    "departments = [\"Cardiology\", \"Neurology\", \"Orthopedics\", \"Gastroenterology\"]\n",
    "Conditions = [\"cardiovascular\", \"neurological\", \"orthopedic\", \"gastroenterological\"]\n",
    "for department, condition in zip(departments, Conditions):\n",
    "    template = f\"\"\"\n",
    "    You are a {department} specialist. A patient has reported the following symptoms.\\\n",
    "    Extract, and analyze the symptoms to identify potential {condition} conditions.\\\n",
    "    Summarize your findings and provide recommendations to the chief medical officer.\\\n",
    "    \"\"\"\n",
    "    template += \"\"\"\\n\n",
    "    Symptoms: \n",
    "    {input}\n",
    "    \"\"\"\n",
    "\n",
    "    prompt_info = {\n",
    "        \"name\": f'{department}', \n",
    "        \"description\": f\"Processes patient symptoms to identify and analyze potential {condition} conditions\", \n",
    "        \"prompt_template\": template\n",
    "        }    \n",
    "    prompt_infos.append(prompt_info)\n",
    "prompt_infos"
   ]
  },
  {
   "cell_type": "markdown",
   "metadata": {},
   "source": [
    "Creating the list of llm chains from descriptions:"
   ]
  },
  {
   "cell_type": "code",
   "execution_count": 24,
   "metadata": {},
   "outputs": [],
   "source": [
    "from langchain.prompts import ChatPromptTemplate\n",
    "\n",
    "destination_chains = {}\n",
    "for p_info in prompt_infos:\n",
    "    name = p_info[\"name\"]\n",
    "    prompt_template = p_info[\"prompt_template\"]\n",
    "    prompt = ChatPromptTemplate.from_template(template=prompt_template)\n",
    "    chain = LLMChain(llm=llm, prompt=prompt)\n",
    "    destination_chains[name] = chain  \n",
    "    \n",
    "destinations = [f\"{p['name']}: {p['description']}\" for p in prompt_infos]\n",
    "destinations_str = \"\\n\".join(destinations)"
   ]
  },
  {
   "cell_type": "markdown",
   "metadata": {},
   "source": [
    "The default chain as to transfer the patient to ER for treatment:"
   ]
  },
  {
   "cell_type": "code",
   "execution_count": 35,
   "metadata": {},
   "outputs": [],
   "source": [
    "template = \"\"\"\n",
    "You are an Emergency Physician. A patient has reported the following symptoms.\\\n",
    "Extract, and analyze the symptoms to identify potential conditions.\\\n",
    "Summarize your findings and recommend the further treatment in the Emergency department.\\\n",
    "\n",
    "Symptoms: \n",
    "{input}\n",
    "\"\"\"\n",
    "default_prompt = ChatPromptTemplate.from_template(template)\n",
    "default_chain = LLMChain(llm=llm, prompt=default_prompt)"
   ]
  },
  {
   "cell_type": "markdown",
   "metadata": {},
   "source": [
    "Creating the router chain:"
   ]
  },
  {
   "cell_type": "code",
   "execution_count": 36,
   "metadata": {},
   "outputs": [
    {
     "name": "stderr",
     "output_type": "stream",
     "text": [
      "<>:5: SyntaxWarning: invalid escape sequence '\\ '\n",
      "<>:5: SyntaxWarning: invalid escape sequence '\\ '\n",
      "C:\\Users\\bbkho\\AppData\\Local\\Temp\\ipykernel_50364\\4130741913.py:5: SyntaxWarning: invalid escape sequence '\\ '\n",
      "  ROUTER_TEMPLATE = \"\"\"Given a raw text input to a \\\n"
     ]
    }
   ],
   "source": [
    "from langchain.prompts import PromptTemplate\n",
    "from langchain.chains.router.llm_router import LLMRouterChain, RouterOutputParser\n",
    "\n",
    "\n",
    "ROUTER_TEMPLATE = \"\"\"Given a raw text input to a \\\n",
    "language model select the model prompt best suited for the input. \\\n",
    "You will be given the names of the available prompts and a \\\n",
    "description of what the prompt is best suited for. \\\n",
    "You may also revise the original input if you think that revising\\\n",
    "it will ultimately lead to a better response from the language model.\n",
    "\n",
    "<< FORMATTING >>\n",
    "Return a markdown code snippet with a JSON object formatted to look like:\n",
    "```json\n",
    "{{{{\n",
    "    \"destination\": string \\ name of the prompt to use or \"DEFAULT\"\n",
    "    \"next_inputs\": string \\ a potentially modified version of the original input\n",
    "}}}}\n",
    "```\n",
    "\n",
    "REMEMBER: \"destination\" MUST be one of the candidate prompt \\\n",
    "names specified below OR it can be \"DEFAULT\" if the input is not\\\n",
    "well suited for any of the candidate prompts.\n",
    "REMEMBER: \"next_inputs\" can just be the original input \\\n",
    "if you don't think any modifications are needed.\n",
    "\n",
    "<< CANDIDATE PROMPTS >>\n",
    "{destinations}\n",
    "\n",
    "<< INPUT >>\n",
    "{{input}}\n",
    "\n",
    "<< OUTPUT (remember to include the ```json)>>\"\"\"\n",
    "\n",
    "router_template = ROUTER_TEMPLATE.format(\n",
    "    destinations=destinations_str\n",
    ")\n",
    "router_prompt = PromptTemplate(\n",
    "    template=router_template,\n",
    "    input_variables=[\"input\"],\n",
    "    output_parser=RouterOutputParser(),\n",
    ")\n",
    "\n",
    "router_chain = LLMRouterChain.from_llm(llm, router_prompt)"
   ]
  },
  {
   "cell_type": "code",
   "execution_count": 41,
   "metadata": {},
   "outputs": [],
   "source": [
    "from langchain.chains.router import MultiPromptChain\n",
    "chain = MultiPromptChain(router_chain=router_chain, \n",
    "                         destination_chains=destination_chains, \n",
    "                         default_chain=default_chain, verbose=True\n",
    "                        )"
   ]
  },
  {
   "cell_type": "markdown",
   "metadata": {},
   "source": [
    "Let's test it out:"
   ]
  },
  {
   "cell_type": "code",
   "execution_count": 33,
   "metadata": {},
   "outputs": [
    {
     "name": "stdout",
     "output_type": "stream",
     "text": [
      "\n",
      "\n",
      "\u001b[1m> Entering new MultiPromptChain chain...\u001b[0m\n",
      "Cardiology: {'input': 'The patient reports experiencing severe chest pain, shortness of breath, and a rapid heartbeat, especially during physical exertion.'}\n",
      "\u001b[1m> Finished chain.\u001b[0m\n",
      "('Based on the reported symptoms of severe chest pain, shortness of breath, '\n",
      " 'and a rapid heartbeat during physical exertion, the patient may be '\n",
      " 'experiencing symptoms of a potential cardiovascular condition. These '\n",
      " 'symptoms are commonly associated with conditions such as angina, heart '\n",
      " 'attack, or heart failure.\\n'\n",
      " '\\n'\n",
      " 'Angina is chest pain or discomfort that occurs when the heart muscle does '\n",
      " 'not receive enough oxygen-rich blood. It is often triggered by physical '\n",
      " 'exertion or stress. A heart attack occurs when there is a blockage in the '\n",
      " 'blood flow to the heart muscle, leading to damage or death of the heart '\n",
      " 'tissue. Symptoms include severe chest pain, shortness of breath, and a rapid '\n",
      " 'heartbeat. Heart failure is a condition where the heart is unable to pump '\n",
      " \"enough blood to meet the body's needs, leading to symptoms such as shortness \"\n",
      " 'of breath and rapid heartbeat.\\n'\n",
      " '\\n'\n",
      " 'It is important for the patient to seek immediate medical attention to '\n",
      " 'determine the underlying cause of their symptoms. Diagnostic tests such as '\n",
      " 'an electrocardiogram (ECG), blood tests, and imaging studies may be '\n",
      " \"necessary to evaluate the patient's heart function and determine the \"\n",
      " 'appropriate treatment plan.\\n'\n",
      " '\\n'\n",
      " 'I recommend that the patient be referred to a cardiologist for further '\n",
      " 'evaluation and management of their symptoms. In the meantime, the patient '\n",
      " 'should avoid physical exertion and follow any prescribed medications or '\n",
      " 'lifestyle modifications to help manage their symptoms and reduce the risk of '\n",
      " 'complications.')\n"
     ]
    }
   ],
   "source": [
    "symptoms = \"\"\"\n",
    "The patient reports experiencing severe chest pain, shortness of breath, and a rapid heartbeat, especially during physical exertion.\n",
    "\"\"\"\n",
    "completion = chain.run(symptoms)\n",
    "nprint(completion)"
   ]
  },
  {
   "cell_type": "code",
   "execution_count": 31,
   "metadata": {},
   "outputs": [
    {
     "name": "stdout",
     "output_type": "stream",
     "text": [
      "\n",
      "\n",
      "\u001b[1m> Entering new MultiPromptChain chain...\u001b[0m\n",
      "Neurology: {'input': 'The patient complains of recurring severe headaches, dizziness, and occasional numbness in the left arm and face.'}\n",
      "\u001b[1m> Finished chain.\u001b[0m\n"
     ]
    },
    {
     "data": {
      "text/plain": [
       "'Based on the reported symptoms of recurring severe headaches, dizziness, and occasional numbness in the left arm and face, there are several potential neurological conditions that could be causing these symptoms. \\n\\nOne possible condition could be migraines, which are characterized by severe headaches often accompanied by dizziness and sensory symptoms such as numbness. Another potential condition could be a transient ischemic attack (TIA) or mini-stroke, which can cause temporary numbness in the face and arm along with dizziness. Additionally, conditions such as multiple sclerosis or a brain tumor could also present with these symptoms.\\n\\nIt is important to conduct further diagnostic tests such as imaging studies (MRI or CT scans), blood tests, and possibly a neurological examination to determine the underlying cause of these symptoms. Treatment will depend on the specific diagnosis, but may include medications for pain management, prevention of migraines, or addressing any underlying conditions.\\n\\nI recommend referring the patient to a neurologist for further evaluation and management of their symptoms. It is important to monitor the patient closely and provide appropriate care to address their neurological concerns.'"
      ]
     },
     "execution_count": 31,
     "metadata": {},
     "output_type": "execute_result"
    }
   ],
   "source": [
    "symptoms = \"\"\"\n",
    "The patient complains of recurring severe headaches, dizziness, and occasional numbness in the left arm and face.\n",
    "\"\"\"\n",
    "completion = chain.run(symptoms)\n",
    "nprint(completion)"
   ]
  },
  {
   "cell_type": "markdown",
   "metadata": {},
   "source": [
    "Let's try an ER case!"
   ]
  },
  {
   "cell_type": "code",
   "execution_count": 42,
   "metadata": {},
   "outputs": [
    {
     "name": "stdout",
     "output_type": "stream",
     "text": [
      "\n",
      "\n",
      "\u001b[1m> Entering new MultiPromptChain chain...\u001b[0m\n",
      "None: {'input': 'The patient has been experiencing a persistent rash, itching, and swelling on the arms and legs, with no apparent trigger.'}\n",
      "\u001b[1m> Finished chain.\u001b[0m\n",
      "('Potential conditions based on the symptoms reported by the patient could '\n",
      " 'include allergic reactions, contact dermatitis, eczema, or even an '\n",
      " 'underlying autoimmune condition such as lupus.\\n'\n",
      " '\\n'\n",
      " 'To further investigate and confirm the diagnosis, I would recommend '\n",
      " 'conducting a thorough physical examination, including a detailed medical '\n",
      " 'history to identify any potential triggers or underlying health conditions. '\n",
      " 'Additionally, blood tests, skin biopsies, or allergy testing may be '\n",
      " 'necessary to determine the cause of the symptoms.\\n'\n",
      " '\\n'\n",
      " 'In the meantime, symptomatic treatment can be provided in the Emergency '\n",
      " 'department to alleviate the rash, itching, and swelling. This may include '\n",
      " 'prescribing antihistamines, corticosteroids, or topical creams to reduce '\n",
      " 'inflammation and relieve itching. It is also important to advise the patient '\n",
      " 'to avoid any potential triggers that may be exacerbating their symptoms.\\n'\n",
      " '\\n'\n",
      " 'Follow-up care with a dermatologist or allergist may be recommended to '\n",
      " 'further investigate and manage the underlying cause of the symptoms.')\n"
     ]
    }
   ],
   "source": [
    "symptoms = \"\"\"\n",
    "The patient has been experiencing a persistent rash, itching, and swelling on the arms and legs, with no apparent trigger.\n",
    "\"\"\"\n",
    "completion = chain.run(symptoms)\n",
    "nprint(completion)"
   ]
  }
 ],
 "metadata": {
  "kernelspec": {
   "display_name": ".llmenv",
   "language": "python",
   "name": "python3"
  },
  "language_info": {
   "codemirror_mode": {
    "name": "ipython",
    "version": 3
   },
   "file_extension": ".py",
   "mimetype": "text/x-python",
   "name": "python",
   "nbconvert_exporter": "python",
   "pygments_lexer": "ipython3",
   "version": "3.12.0"
  }
 },
 "nbformat": 4,
 "nbformat_minor": 2
}
