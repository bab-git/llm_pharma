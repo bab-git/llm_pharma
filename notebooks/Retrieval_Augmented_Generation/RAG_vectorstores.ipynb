{
 "cells": [
  {
   "cell_type": "markdown",
   "metadata": {},
   "source": [
    "# RAG application using persistent and cloud-based vector stores\n",
    "\n",
    "In this notebook, we create a RAG application with the following additional features: \n",
    "- Using a public embedding model from Hugging Face\n",
    "- Applying chunking strategy for analyzing large documents\n",
    "- Using a persistent vector store from Chroma DB\n",
    "- A cloud-based Vector Store from Pinecone\n",
    "\n",
    "**Case Study:**\n",
    "- Search and retrieve information from Novartis 2023 annual report."
   ]
  },
  {
   "cell_type": "code",
   "execution_count": 1,
   "metadata": {},
   "outputs": [],
   "source": [
    "# import os\n",
    "from dotenv import load_dotenv, find_dotenv\n",
    "_ = load_dotenv(find_dotenv()) # read local .env file\n",
    "\n",
    "import pprint\n",
    "# A function for printing nicely\n",
    "def nprint(text, indent=2):\n",
    "    pp = pprint.PrettyPrinter(indent=indent)\n",
    "    pp.pprint(text)"
   ]
  },
  {
   "cell_type": "markdown",
   "metadata": {},
   "source": [
    "## Parameters:"
   ]
  },
  {
   "cell_type": "code",
   "execution_count": 39,
   "metadata": {},
   "outputs": [],
   "source": [
    "modelID = \"gpt-3.5-turbo\"\n",
    "\n",
    "# Create a new Chroma vector store\n",
    "DB_action = 'create'\n",
    "\n",
    "# Name and location of the Chroma vector store\n",
    "collection_name = 'novartis-annual'\n",
    "persist_directory = '../../chromadb'\n",
    "\n",
    "# Number of documents to retrieve\n",
    "retrieve_k = 4\n",
    "\n",
    "# Embedding model to use\n",
    "embed_model_id = 'sentence-transformers/all-mpnet-base-v2'"
   ]
  },
  {
   "cell_type": "markdown",
   "metadata": {},
   "source": [
    "## Reading the document file:"
   ]
  },
  {
   "cell_type": "code",
   "execution_count": 8,
   "metadata": {},
   "outputs": [
    {
     "name": "stdout",
     "output_type": "stream",
     "text": [
      "283\n"
     ]
    }
   ],
   "source": [
    "from pypdf import PdfReader\n",
    "\n",
    "filename = '../../source_data/novartis-annual-report-2023.pdf'\n",
    "\n",
    "reader = PdfReader(filename)\n",
    "documents = [p.extract_text().strip() for p in reader.pages]\n",
    "\n",
    "# Filter the empty strings\n",
    "documents = [text for text in documents if text]\n",
    "print(len(documents))"
   ]
  },
  {
   "cell_type": "markdown",
   "metadata": {},
   "source": [
    "Looking at a sample page:"
   ]
  },
  {
   "cell_type": "code",
   "execution_count": 6,
   "metadata": {},
   "outputs": [
    {
     "name": "stdout",
     "output_type": "stream",
     "text": [
      "IChair’s letter\n",
      "In 2023, Novartis made another substantial step in trans -\n",
      "forming from a diversified healthcare player into a focused \n",
      "innovative medicines company. With the successful spin-\n",
      "off and listing of our generics and biosimilars division \n",
      "Sandoz on the SIX Swiss Exchange in October, we con -\n",
      "cluded a major part of the portfolio transformation, which \n",
      "started 10 years ago and entailed the divestiture of sev -\n",
      "eral non-core businesses as well as the establishment of \n",
      "new therapy and technology platforms. \n",
      "The portfolio changes are integral to our strategy, which \n",
      "aims to position Novartis in highly innovative and \n",
      "fast-growing areas of healthcare, while focusing our \n",
      "organizational and operational structure. The shift from \n",
      "taking a broad market approach to going deep into select \n",
      "medical areas to achieve category leadership is set to \n",
      "guide our strategy in the future and is designed to spur \n",
      "sales and profit growth and create sustainable share -\n",
      "holder value.\n",
      "We are confident that our strategic direction and our oper -\n",
      "ational setup allow us to navigate the current market envi -\n",
      "ronment, which is characterized by a challenging macro -\n",
      "economic and geopolitical situation that is putting pressure \n",
      "on healthcare systems and is leading to major policy \n",
      "shifts. Our ability to adapt demonstrates the resilience \n",
      "of our business and our capacity to seize emerging \n",
      "opportunities. \n",
      "Having introduced more than 40 new molecular entities \n",
      "into the market over the last two decades, we are among \n",
      "the world’s most innovative pharmaceutical companies. \n",
      "By strengthening our expertise in specialized sectors, \n",
      "such as radioligand and RNA-based therapies, we can \n",
      "stay at the forefront of the rapid technological advances \n",
      "in our industry and differentiate ourselves from our com -\n",
      "petitors. \n",
      "To maintain this momentum, we will continue to invest \n",
      "substantial funds into research and development to cre -\n",
      "ate breakthrough therapies. Our executive leadership \n",
      "team has set in place a robust structure to fast-track our \n",
      "activities across our therapeutic areas and enable smooth \n",
      "project transitions between units. \n",
      "We also continue to make progress on our environmen -\n",
      "tal, social and governance (ESG) priorities. We made sub -\n",
      "stantial investments to reduce our environmental foot -\n",
      "print and renewed our commitment toward the creation \n",
      "of more equitable healthcare systems. We also made sig -\n",
      "nificant investments to advance our portfolio of potential \n",
      "treatments for neglected tropical diseases.  At the same time, we continued efforts to reinforce integ -\n",
      "rity across our organization and foster a business culture \n",
      "in which ethics and compliance take center stage. The \n",
      "Board of Directors will continue to focus on this area as \n",
      "we recognize that trust, in addition to leadership in inno -\n",
      "vation and further performance improvement, is vital for \n",
      "building stronger partnerships with healthcare stake -\n",
      "holders around the world and helping to create more \n",
      "resilient and equitable healthcare systems. \n",
      "I thank you for the confidence you have placed in our \n",
      "company and am pleased to be able to propose a divi -\n",
      "dend increase of 3% to CHF 3.30 at the next Annual Gen -\n",
      "eral Meeting.  \n",
      "Sincerely,\n",
      "Joerg Reinhardt\n",
      "Chair of the Board of Directors\n"
     ]
    }
   ],
   "source": [
    "print(documents[2])"
   ]
  },
  {
   "cell_type": "markdown",
   "metadata": {},
   "source": [
    "## Splitting the documents into chunks\n",
    "\n",
    "Here we use the [SentenceTransformers/all-mpnet-base-v2](https://www.sbert.net/docs/sentence_transformer/pretrained_models.html) model and its [Hugging Face API](https://huggingface.co/sentence-transformers/all-mpnet-base-v2) to split the documents into smaller chunks.   \n",
    "We use the tokentextsplitter to split the documents using token size.  \n",
    "We also preserve 10% overlap between chunks to avoid the loss of information."
   ]
  },
  {
   "cell_type": "code",
   "execution_count": 10,
   "metadata": {},
   "outputs": [
    {
     "name": "stderr",
     "output_type": "stream",
     "text": [
      "d:\\Portfolio\\LLMs Applications\\.llmenv\\Lib\\site-packages\\sentence_transformers\\cross_encoder\\CrossEncoder.py:11: TqdmWarning: IProgress not found. Please update jupyter and ipywidgets. See https://ipywidgets.readthedocs.io/en/stable/user_install.html\n",
      "  from tqdm.autonotebook import tqdm, trange\n",
      "d:\\Portfolio\\LLMs Applications\\.llmenv\\Lib\\site-packages\\huggingface_hub\\file_download.py:1132: FutureWarning: `resume_download` is deprecated and will be removed in version 1.0.0. Downloads always resume when possible. If you want to force a new download, use `force_download=True`.\n",
      "  warnings.warn(\n"
     ]
    }
   ],
   "source": [
    "from langchain.docstore.document import Document \n",
    "from langchain.text_splitter import SentenceTransformersTokenTextSplitter\n",
    "import numpy as np\n",
    "\n",
    "# maximum input length for all-mpnet-base-v2\n",
    "tokens_per_chunk = 384\n",
    "chunk_overlap = int(tokens_per_chunk * 0.1)\n",
    "model_name = 'sentence-transformers/all-mpnet-base-v2'\n",
    "\n",
    "token_splitter = SentenceTransformersTokenTextSplitter(chunk_overlap=chunk_overlap, \n",
    "                tokens_per_chunk=tokens_per_chunk,model_name=model_name)\n",
    "\n",
    "token_split_texts = []\n",
    "for text in documents:\n",
    "    token_split_texts += token_splitter.split_text(text)\n",
    "\n",
    "docs = [Document(page_content=chunk, metadata={\"source\": f\"chunk-{i+1}\"}) for i, chunk in enumerate(token_split_texts)]"
   ]
  },
  {
   "cell_type": "markdown",
   "metadata": {},
   "source": [
    "Looking at chunk results:"
   ]
  },
  {
   "cell_type": "code",
   "execution_count": 17,
   "metadata": {},
   "outputs": [
    {
     "name": "stdout",
     "output_type": "stream",
     "text": [
      "Number of documents: 283\n",
      "Number of chunks: 787\n",
      "Number of tokens in sample chunk: 388\n",
      "\n",
      "A sample chunk:\n",
      "\n",
      "('ii ceo ’ s letter 2023 was a historic year for novartis. with the sandoz '\n",
      " 'spin - off largely completing the multiyear transformation of our company, '\n",
      " 'we are now completely dedicated to bringing innovative medicines to the '\n",
      " 'world. as we enter this new era, our very strong financial and research and '\n",
      " 'development ( r & d ) performance in 2023 underscores the benefits of our '\n",
      " 'focused strategy and the progress we are making in creating value for '\n",
      " 'sharehold - ers and society. we continued to show leadership in oncology, '\n",
      " 'with strong growth for kisqali and pluvicto and important data read - outs '\n",
      " 'that show the potential to bring these medicines to broader patient '\n",
      " 'populations in early breast cancer and in earlier lines of treatment for '\n",
      " 'advanced prostate cancer, respectively. other standout performers include '\n",
      " 'entresto, our treat - ment for heart failure and hypertension that has now '\n",
      " 'reached more than 2 million patients in the us, and kes - impta, our '\n",
      " 'treatment for multiple sclerosis that almost dou - bled in sales from the '\n",
      " 'previous year and has now reached more than 85 000 patients across 87 '\n",
      " 'countries. at the same time, we are investing to meet rising demand for our '\n",
      " 'medicines and ensure we can deliver our treat - ments to people who need '\n",
      " 'them. during the year, we opened a new radioligand therapy ( rlt ) facility '\n",
      " 'in the us that helped us more than double weekly production capacity of '\n",
      " 'pluvicto in the market. we also opened an rlt facility in spain and '\n",
      " 'announced plans for new facilities in china and japan. we also achieved '\n",
      " 'major innovation milestones that show the strength of our r & d pipeline and '\n",
      " 'potential for future growth. one major highlight was the approval of iptaco '\n",
      " '- pan to treat a rare blood disorder — the first of what we hope to be many '\n",
      " 'approved indications for this molecule, which was discovered and developed '\n",
      " 'by novartis. our pipeline')\n"
     ]
    }
   ],
   "source": [
    "print(f'Number of documents: {len(documents)}')\n",
    "print(f'Number of chunks: {len(docs)}')\n",
    "token = token_splitter.count_tokens(text = docs[5].page_content)\n",
    "print(f'Number of tokens in sample chunk: {token}')\n",
    "print('\\nA sample chunk:\\n')\n",
    "nprint(docs[4].page_content)"
   ]
  },
  {
   "cell_type": "markdown",
   "metadata": {},
   "source": [
    "## Creating a local vector store\n",
    "We use [Chromadb](https://docs.trychroma.com/getting-started) to create a persistent vector store.   "
   ]
  },
  {
   "cell_type": "code",
   "execution_count": 19,
   "metadata": {},
   "outputs": [
    {
     "name": "stderr",
     "output_type": "stream",
     "text": [
      "d:\\Portfolio\\LLMs Applications\\.llmenv\\Lib\\site-packages\\huggingface_hub\\file_download.py:1132: FutureWarning: `resume_download` is deprecated and will be removed in version 1.0.0. Downloads always resume when possible. If you want to force a new download, use `force_download=True`.\n",
      "  warnings.warn(\n"
     ]
    },
    {
     "name": "stdout",
     "output_type": "stream",
     "text": [
      "Collection novartis-annual is loaded, number of itmes: 787\n"
     ]
    }
   ],
   "source": [
    "import chromadb\n",
    "import chromadb.utils.embedding_functions as embedding_functions\n",
    "\n",
    "# DB_action will be changed to 'load' after collection is created\n",
    "# you need to delete the existing collection if you want to create it again\n",
    "# if you want to load already created collection, set DB_action = 'load'\n",
    "\n",
    "embedding_function = embedding_functions.SentenceTransformerEmbeddingFunction(model_name=\"all-mpnet-base-v2\")\n",
    "\n",
    "chroma_client = chromadb.PersistentClient(path=persist_directory)\n",
    "if DB_action == 'create':\n",
    "   collection = chroma_client.create_collection(name=collection_name, embedding_function=embedding_function)\n",
    "   print(f'Collection {collection_name} is created, number of itmes: {collection.count()}')\n",
    "   DB_action = 'load'\n",
    "elif DB_action == 'load':\n",
    "    collection = chroma_client.get_collection(name=collection_name, embedding_function=embedding_function)\n",
    "    print(f'Collection {collection_name} is loaded, number of itmes: {collection.count()}')\n",
    "elif DB_action == 'del':\n",
    "    chroma_client.delete_collection(collection_name)\n",
    "    collection = None \n",
    "    embedding_function = None\n",
    "    print(f'Collection {collection_name} is deleted')"
   ]
  },
  {
   "cell_type": "markdown",
   "metadata": {},
   "source": [
    "## Local embeddings\n",
    "We use the same embedding model we used for splitting also to convert chunk texts into vectors."
   ]
  },
  {
   "cell_type": "code",
   "execution_count": 31,
   "metadata": {},
   "outputs": [
    {
     "name": "stderr",
     "output_type": "stream",
     "text": [
      "d:\\Portfolio\\LLMs Applications\\.llmenv\\Lib\\site-packages\\langchain_core\\_api\\deprecation.py:119: LangChainDeprecationWarning: The class `HuggingFaceEmbeddings` was deprecated in LangChain 0.2.2 and will be removed in 0.3.0. An updated version of the class exists in the langchain-huggingface package and should be used instead. To use it run `pip install -U langchain-huggingface` and import as `from langchain_huggingface import HuggingFaceEmbeddings`.\n",
      "  warn_deprecated(\n",
      "d:\\Portfolio\\LLMs Applications\\.llmenv\\Lib\\site-packages\\huggingface_hub\\file_download.py:1132: FutureWarning: `resume_download` is deprecated and will be removed in version 1.0.0. Downloads always resume when possible. If you want to force a new download, use `force_download=True`.\n",
      "  warnings.warn(\n"
     ]
    }
   ],
   "source": [
    "from langchain.embeddings import HuggingFaceEmbeddings\n",
    "from langchain.vectorstores import Chroma\n",
    "\n",
    "embedding_function = HuggingFaceEmbeddings(model_name=embed_model_id)"
   ]
  },
  {
   "cell_type": "code",
   "execution_count": null,
   "metadata": {},
   "outputs": [],
   "source": [
    "# Upsert documents to the collection\n",
    "vectordb = Chroma.from_documents(documents=docs, embedding=embedding_function,\\\n",
    "          persist_directory=persist_directory, collection_name=collection_name)\n",
    "vectordb.persist()\n",
    "vectordb = None"
   ]
  },
  {
   "cell_type": "markdown",
   "metadata": {},
   "source": [
    "# Retrieval from the persistent vector store"
   ]
  },
  {
   "cell_type": "markdown",
   "metadata": {},
   "source": [
    "defining the retriever:"
   ]
  },
  {
   "cell_type": "code",
   "execution_count": 40,
   "metadata": {},
   "outputs": [
    {
     "name": "stdout",
     "output_type": "stream",
     "text": [
      "Collection novartis-annual is loaded, number of itmes: 787\n"
     ]
    }
   ],
   "source": [
    "vectorstore = Chroma(persist_directory=persist_directory, collection_name=collection_name, embedding_function=embedding_function) \n",
    "print(f'Collection {collection_name} is loaded, number of itmes: {collection.count()}')\n",
    "retriever_rag = vectorstore.as_retriever(search_kwargs={\"k\": retrieve_k})\n"
   ]
  },
  {
   "cell_type": "markdown",
   "metadata": {},
   "source": [
    "Manual retrieval:"
   ]
  },
  {
   "cell_type": "code",
   "execution_count": 36,
   "metadata": {},
   "outputs": [
    {
     "name": "stdout",
     "output_type": "stream",
     "text": [
      "4\n",
      "('item 5. operating and financial review and prospects 875. c research and '\n",
      " 'development, patents and licenses our research and development spending from '\n",
      " 'continu - ing operations totaled usd 11. 4 billion, usd 9. 2 billion and usd '\n",
      " '8. 6 billion ( non - ifrs measure core research and development from '\n",
      " 'continuing operations usd 8. 6 billion, usd 8. 3 billion and usd 8. 2 '\n",
      " 'billion ) for the years 2023, 2022 and 2021, respectively. novartis has '\n",
      " 'numerous products in various stages of development. for further information '\n",
      " 'on these policies and these products in development, see “ item 4. infor - '\n",
      " 'mation on the company — item 4. b business overview. ” as described in the '\n",
      " 'risk factors section and else - where in this annual report, our drug '\n",
      " 'development efforts are subject to the risks and uncertainties inher - ent '\n",
      " 'in any new drug development program. due to the risks and uncertainties '\n",
      " 'involved in progressing through preclinical development and clinical trials, '\n",
      " 'and the time and cost involved in obtaining regulatory approvals, among '\n",
      " 'other factors, we cannot reasonably estimate the timing, completion dates '\n",
      " 'and costs, or range of costs, of our drug development programs, or of the '\n",
      " 'development of any particular development compound ( see “ item 3. key '\n",
      " 'information — item 3. d risk factors ” ). in addition, for a description of '\n",
      " 'the research and development process for the development of new drugs and '\n",
      " 'our other prod - ucts, and the regulatory process for their approval, see “ '\n",
      " 'item 4. information on the company — item 4. b business overview. ” 5. d '\n",
      " 'trend information see “ — item 5. a operating results ”, “ — item 5. b '\n",
      " 'liquidity and capital resources ” and “ item 4. information on the company — '\n",
      " 'item 4. b business overview ” for trend infor - mation. 5. e critical '\n",
      " 'accounting estimates see “ item 18. financial statements')\n"
     ]
    }
   ],
   "source": [
    "# question = \"Can you summarize Novartis' strategic direction and key initiatives for the future?\"\n",
    "question = \"What are the significant milestones in Novartis' research and development pipeline mentioned in the 2023 report?\"\n",
    "retrieved_docs = retriever_rag.invoke(question)\n",
    "print(len(retrieved_docs))\n",
    "nprint(retrieved_docs[0].page_content)"
   ]
  },
  {
   "cell_type": "markdown",
   "metadata": {},
   "source": [
    "Question answering from the persistent vector store:"
   ]
  },
  {
   "cell_type": "code",
   "execution_count": 41,
   "metadata": {},
   "outputs": [],
   "source": [
    "from langchain_openai import ChatOpenAI\n",
    "from langchain.chains import RetrievalQA\n",
    "\n",
    "llm = ChatOpenAI(temperature = 0.0, model=modelID)\n",
    "qa = RetrievalQA.from_chain_type(\n",
    "    llm=llm,\n",
    "    chain_type=\"stuff\",\n",
    "    retriever=retriever_rag,\n",
    ")"
   ]
  },
  {
   "cell_type": "code",
   "execution_count": 59,
   "metadata": {},
   "outputs": [
    {
     "name": "stdout",
     "output_type": "stream",
     "text": [
      "('In the 2023 report, Novartis mentioned the significant milestone of '\n",
      " 'acquiring Chinook Therapeutics, which added two promising Phase III assets '\n",
      " 'for IgA nephropathy to their pipeline. Additionally, they highlighted the '\n",
      " 'approval of IPTA-copan to treat a rare blood disorder, which was the first '\n",
      " 'of potentially many approved indications for this molecule discovered and '\n",
      " 'developed by Novartis.')\n"
     ]
    }
   ],
   "source": [
    "completion_chroma = qa.run(question)\n",
    "nprint(completion_chroma)"
   ]
  },
  {
   "cell_type": "markdown",
   "metadata": {},
   "source": [
    "## Creating a vector store in the cloud using Pinecone\n",
    "\n",
    "Now we use [Pinecone](https://docs.pinecone.io/guides/get-started/quickstart) to create a vector store in the cloud.\n",
    "You need to create an account and get an API key from Pinecone.   \n",
    "Store the API key in [.env](../../.env) file as PINECONE_API_KEY=YOUR_API_KEY.   \n",
    "You can use the free tier of Pinecone up to 2GB."
   ]
  },
  {
   "cell_type": "code",
   "execution_count": 46,
   "metadata": {},
   "outputs": [
    {
     "name": "stdout",
     "output_type": "stream",
     "text": [
      "novartis-annual\n",
      "{'indexes': [{'dimension': 256,\n",
      "              'host': 'langchain-kontakts-openailarge-8aipd99.svc.aped-4627-b74a.pinecone.io',\n",
      "              'metric': 'dotproduct',\n",
      "              'name': 'langchain-kontakts-openailarge',\n",
      "              'spec': {'serverless': {'cloud': 'aws', 'region': 'us-east-1'}},\n",
      "              'status': {'ready': True, 'state': 'Ready'}}]}\n"
     ]
    }
   ],
   "source": [
    "import pinecone\n",
    "from pinecone import Pinecone, ServerlessSpec\n",
    "\n",
    "import time\n",
    "import os\n",
    "\n",
    "pc = Pinecone()\n",
    "print(pc.list_indexes())"
   ]
  },
  {
   "cell_type": "markdown",
   "metadata": {},
   "source": [
    "A sample embedding to check the required size of the vector store:"
   ]
  },
  {
   "cell_type": "code",
   "execution_count": 51,
   "metadata": {},
   "outputs": [
    {
     "name": "stdout",
     "output_type": "stream",
     "text": [
      "Size of the embedding:  (768,)\n",
      "Sample entries from the embedding:  [-0.00823599  0.11245028 -0.01427159 -0.02212434]\n"
     ]
    }
   ],
   "source": [
    "embedding_function = HuggingFaceEmbeddings(model_name=embed_model_id)\n",
    "sample_embedding = np.array(embedding_function.embed_query(docs[0].page_content))\n",
    "print(\"Size of the embedding: \", sample_embedding.shape)\n",
    "print(\"Sample entries from the embedding: \", sample_embedding[0:4])"
   ]
  },
  {
   "cell_type": "markdown",
   "metadata": {},
   "source": [
    "Create an index in Pinecone:"
   ]
  },
  {
   "cell_type": "code",
   "execution_count": 52,
   "metadata": {},
   "outputs": [
    {
     "name": "stdout",
     "output_type": "stream",
     "text": [
      "novartis-annual\n"
     ]
    }
   ],
   "source": [
    "index_name = collection_name\n",
    "index_name = index_name.lower()    \n",
    "    \n",
    "print(index_name)\n",
    "\n",
    "try:\n",
    "    index = pc.Index(index_name)\n",
    "    print(f'index already created')    \n",
    "    print(index.describe_index_stats())\n",
    "except:    \n",
    "\n",
    "    spec=ServerlessSpec(\n",
    "        cloud=\"aws\",\n",
    "        region=\"us-east-1\"\n",
    "        )\n",
    "\n",
    "    pc.create_index(\n",
    "        name=index_name, \n",
    "        dimension=sample_embedding.shape[0], \n",
    "        metric=\"dotproduct\",\n",
    "        spec=spec\n",
    "    )\n",
    "\n",
    "    # wait for index to finish initialization\n",
    "    while not pc.describe_index(index_name).status[\"ready\"]:\n",
    "        time.sleep(1)\n",
    "    index_created = True\n",
    "    index = pc.Index(index_name)\n",
    "\n"
   ]
  },
  {
   "cell_type": "markdown",
   "metadata": {},
   "source": [
    "Storing embeddings in pinecone"
   ]
  },
  {
   "cell_type": "code",
   "execution_count": 54,
   "metadata": {},
   "outputs": [
    {
     "name": "stdout",
     "output_type": "stream",
     "text": [
      "CPU times: total: 0 ns\n",
      "Wall time: 0 ns\n",
      "vectors already stored\n",
      "{'dimension': 768,\n",
      " 'index_fullness': 0.0,\n",
      " 'namespaces': {'': {'vector_count': 787}},\n",
      " 'total_vector_count': 787}\n"
     ]
    }
   ],
   "source": [
    "%time\n",
    "\n",
    "from langchain.vectorstores import Pinecone\n",
    "\n",
    "if index.describe_index_stats().total_vector_count == 0:\n",
    "    docsearch = Pinecone.from_documents(docs, embedding_function, index_name=index_name)\n",
    "    print(f'vectors created')\n",
    "else:\n",
    "    print(f'vectors already stored')\n",
    "\n",
    "print(index.describe_index_stats())"
   ]
  },
  {
   "cell_type": "markdown",
   "metadata": {},
   "source": [
    "Connecting the vector store to the Langchain retriever:"
   ]
  },
  {
   "cell_type": "code",
   "execution_count": 55,
   "metadata": {},
   "outputs": [],
   "source": [
    "vectorstore = Pinecone(index, embedding_function, \"text\")\n",
    "retriever_pinecone = vectorstore.as_retriever(search_kwargs={\"k\": retrieve_k})\n",
    "qa_pinecone = RetrievalQA.from_chain_type(\n",
    "    llm=llm,\n",
    "    chain_type=\"stuff\",\n",
    "    retriever=retriever_pinecone,\n",
    ")"
   ]
  },
  {
   "cell_type": "code",
   "execution_count": 60,
   "metadata": {},
   "outputs": [
    {
     "name": "stdout",
     "output_type": "stream",
     "text": [
      "('In the 2023 report, Novartis mentioned the significant milestone of '\n",
      " 'acquiring Chinook Therapeutics, which added two promising Phase III assets '\n",
      " 'for IgA nephropathy to their pipeline. Additionally, they highlighted the '\n",
      " 'approval of IPTA-copan to treat a rare blood disorder, which was the first '\n",
      " 'of potentially many approved indications for this molecule discovered and '\n",
      " 'developed by Novartis.')\n"
     ]
    }
   ],
   "source": [
    "question = \"What are the significant milestones in Novartis' research and development pipeline mentioned in the 2023 report?\"\n",
    "completion_pinecone = qa_pinecone.run(question)\n",
    "nprint(completion_pinecone)"
   ]
  },
  {
   "cell_type": "markdown",
   "metadata": {},
   "source": [
    "Let's compare it with the completion we obtained from the RAG based on ChromaDB VStore:"
   ]
  },
  {
   "cell_type": "code",
   "execution_count": 61,
   "metadata": {},
   "outputs": [
    {
     "name": "stdout",
     "output_type": "stream",
     "text": [
      "('In the 2023 report, Novartis mentioned the significant milestone of '\n",
      " 'acquiring Chinook Therapeutics, which added two promising Phase III assets '\n",
      " 'for IgA nephropathy to their pipeline. Additionally, they highlighted the '\n",
      " 'approval of IPTA-copan to treat a rare blood disorder, which was the first '\n",
      " 'of potentially many approved indications for this molecule discovered and '\n",
      " 'developed by Novartis.')\n"
     ]
    }
   ],
   "source": [
    "nprint(completion_chroma)"
   ]
  }
 ],
 "metadata": {
  "kernelspec": {
   "display_name": ".llmenv",
   "language": "python",
   "name": "python3"
  },
  "language_info": {
   "codemirror_mode": {
    "name": "ipython",
    "version": 3
   },
   "file_extension": ".py",
   "mimetype": "text/x-python",
   "name": "python",
   "nbconvert_exporter": "python",
   "pygments_lexer": "ipython3",
   "version": "3.12.0"
  }
 },
 "nbformat": 4,
 "nbformat_minor": 2
}
