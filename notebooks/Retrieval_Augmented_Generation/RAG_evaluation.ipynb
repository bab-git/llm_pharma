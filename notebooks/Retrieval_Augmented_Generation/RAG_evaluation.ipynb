{
 "cells": [
  {
   "cell_type": "markdown",
   "metadata": {},
   "source": [
    "# Evaluation of Retreival Augmented Generation using QAGenerator:\n",
    "In this notebook, we will evaluate a RAG system using QAGenerator. This method provides an automated way to evaluate RAG pipelines, which is effective for information extraction applciations.   \n",
    "For implementatin, we use the [QAGenerator](https://api.python.langchain.com/en/latest/evaluation/langchain.evaluation.qa.generate_chain.QAGenerateChain.html)\n",
    "and [QAEvalChain](https://api.python.langchain.com/en/latest/evaluation/langchain.evaluation.qa.eval_chain.QAEvalChain.html) from Langchain.\n",
    "Example use cases include:\n",
    "- extracting product information,\n",
    "- technical specifications, \n",
    "- sentiment analysis, \n",
    "- name entity recognition, \n",
    "- and etc.\n",
    "\n",
    "**Case study:** \n",
    " - Amazon Product Catalog"
   ]
  },
  {
   "cell_type": "code",
   "execution_count": 2,
   "metadata": {},
   "outputs": [],
   "source": [
    "import pandas as pd\n",
    "from dotenv import load_dotenv, find_dotenv\n",
    "_ = load_dotenv(find_dotenv()) # read local .env file\n",
    "\n",
    "import pprint\n",
    "# A function for printing nicely\n",
    "def nprint(text, indent=2):\n",
    "    pp = pprint.PrettyPrinter(indent=indent)\n",
    "    pp.pprint(text)"
   ]
  },
  {
   "cell_type": "markdown",
   "metadata": {},
   "source": [
    "## Parameters:"
   ]
  },
  {
   "cell_type": "code",
   "execution_count": 16,
   "metadata": {},
   "outputs": [],
   "source": [
    "modelID = \"gpt-3.5-turbo\""
   ]
  },
  {
   "cell_type": "markdown",
   "metadata": {},
   "source": [
    "## Amazon Product Catalog Dataset\n",
    "\n",
    "The dataset is obtain from this [public data repository](https://data.world/promptcloud/amazon-product-dataset-2020).\n",
    "\n",
    "It contains a sample of 10K records from amazon products with the last update on Jan-March 2020.    \n",
    "The dataset contains the following fields:   \n",
    "Uniq Id, Product Name, Brand Name, Asin, Category, Upc Ean Code, List Price, Selling Price, Quantity, Model Number, About Product, Product Specification, Technical Details, Shipping Weight, Product Dimensions, Image, Variants, SKU, Product Url, Stock, Product Details, Dimensions, Color, Ingredients, Direction To Use, Is Amazon Seller, Size Quantity Variant, Product Description.\n",
    "\n",
    "The data can be loaded from the source_data folder of this repository.\n",
    "We use a subset of **10%** of the original data to show case the RAG evaluation."
   ]
  },
  {
   "cell_type": "code",
   "execution_count": 7,
   "metadata": {},
   "outputs": [
    {
     "name": "stdout",
     "output_type": "stream",
     "text": [
      "Total rows: 10002\n"
     ]
    },
    {
     "data": {
      "text/html": [
       "<div>\n",
       "<style scoped>\n",
       "    .dataframe tbody tr th:only-of-type {\n",
       "        vertical-align: middle;\n",
       "    }\n",
       "\n",
       "    .dataframe tbody tr th {\n",
       "        vertical-align: top;\n",
       "    }\n",
       "\n",
       "    .dataframe thead th {\n",
       "        text-align: right;\n",
       "    }\n",
       "</style>\n",
       "<table border=\"1\" class=\"dataframe\">\n",
       "  <thead>\n",
       "    <tr style=\"text-align: right;\">\n",
       "      <th></th>\n",
       "      <th>Uniq Id</th>\n",
       "      <th>Product Name</th>\n",
       "      <th>Brand Name</th>\n",
       "      <th>Asin</th>\n",
       "      <th>Category</th>\n",
       "      <th>Upc Ean Code</th>\n",
       "      <th>List Price</th>\n",
       "      <th>Selling Price</th>\n",
       "      <th>Quantity</th>\n",
       "      <th>Model Number</th>\n",
       "      <th>...</th>\n",
       "      <th>Product Url</th>\n",
       "      <th>Stock</th>\n",
       "      <th>Product Details</th>\n",
       "      <th>Dimensions</th>\n",
       "      <th>Color</th>\n",
       "      <th>Ingredients</th>\n",
       "      <th>Direction To Use</th>\n",
       "      <th>Is Amazon Seller</th>\n",
       "      <th>Size Quantity Variant</th>\n",
       "      <th>Product Description</th>\n",
       "    </tr>\n",
       "  </thead>\n",
       "  <tbody>\n",
       "    <tr>\n",
       "      <th>0</th>\n",
       "      <td>c31aa152c0a5d11212892316bf2e4d6e</td>\n",
       "      <td>Mudpuppy Monsters Cardboard Tube Craft Kit</td>\n",
       "      <td>NaN</td>\n",
       "      <td>NaN</td>\n",
       "      <td>Toys &amp; Games | Arts &amp; Crafts | Craft Kits | Fe...</td>\n",
       "      <td>NaN</td>\n",
       "      <td>NaN</td>\n",
       "      <td>$19.33</td>\n",
       "      <td>NaN</td>\n",
       "      <td>9780735343399</td>\n",
       "      <td>...</td>\n",
       "      <td>https://www.amazon.com/Mudpuppy-Monsters-Cardb...</td>\n",
       "      <td>NaN</td>\n",
       "      <td>NaN</td>\n",
       "      <td>NaN</td>\n",
       "      <td>NaN</td>\n",
       "      <td>NaN</td>\n",
       "      <td>NaN</td>\n",
       "      <td>Y</td>\n",
       "      <td>NaN</td>\n",
       "      <td>NaN</td>\n",
       "    </tr>\n",
       "    <tr>\n",
       "      <th>1</th>\n",
       "      <td>fc567bb32cc56b98811b39e56378cba0</td>\n",
       "      <td>MightySkins Skin Compatible with Razor A Kick ...</td>\n",
       "      <td>NaN</td>\n",
       "      <td>NaN</td>\n",
       "      <td>Sports &amp; Outdoors | Outdoor Recreation | Skate...</td>\n",
       "      <td>NaN</td>\n",
       "      <td>NaN</td>\n",
       "      <td>$19.99</td>\n",
       "      <td>NaN</td>\n",
       "      <td>RAAKS-Color Bugs</td>\n",
       "      <td>...</td>\n",
       "      <td>https://www.amazon.com/MightySkins-Skin-Compat...</td>\n",
       "      <td>NaN</td>\n",
       "      <td>NaN</td>\n",
       "      <td>NaN</td>\n",
       "      <td>NaN</td>\n",
       "      <td>NaN</td>\n",
       "      <td>NaN</td>\n",
       "      <td>Y</td>\n",
       "      <td>NaN</td>\n",
       "      <td>NaN</td>\n",
       "    </tr>\n",
       "  </tbody>\n",
       "</table>\n",
       "<p>2 rows × 28 columns</p>\n",
       "</div>"
      ],
      "text/plain": [
       "                            Uniq Id  \\\n",
       "0  c31aa152c0a5d11212892316bf2e4d6e   \n",
       "1  fc567bb32cc56b98811b39e56378cba0   \n",
       "\n",
       "                                        Product Name  Brand Name  Asin  \\\n",
       "0         Mudpuppy Monsters Cardboard Tube Craft Kit         NaN   NaN   \n",
       "1  MightySkins Skin Compatible with Razor A Kick ...         NaN   NaN   \n",
       "\n",
       "                                            Category Upc Ean Code  List Price  \\\n",
       "0  Toys & Games | Arts & Crafts | Craft Kits | Fe...          NaN         NaN   \n",
       "1  Sports & Outdoors | Outdoor Recreation | Skate...          NaN         NaN   \n",
       "\n",
       "  Selling Price  Quantity      Model Number  ...  \\\n",
       "0        $19.33       NaN     9780735343399  ...   \n",
       "1        $19.99       NaN  RAAKS-Color Bugs  ...   \n",
       "\n",
       "                                         Product Url Stock Product Details  \\\n",
       "0  https://www.amazon.com/Mudpuppy-Monsters-Cardb...   NaN             NaN   \n",
       "1  https://www.amazon.com/MightySkins-Skin-Compat...   NaN             NaN   \n",
       "\n",
       "  Dimensions Color Ingredients Direction To Use  Is Amazon Seller  \\\n",
       "0        NaN   NaN         NaN              NaN                 Y   \n",
       "1        NaN   NaN         NaN              NaN                 Y   \n",
       "\n",
       "  Size Quantity Variant  Product Description  \n",
       "0                   NaN                  NaN  \n",
       "1                   NaN                  NaN  \n",
       "\n",
       "[2 rows x 28 columns]"
      ]
     },
     "execution_count": 7,
     "metadata": {},
     "output_type": "execute_result"
    }
   ],
   "source": [
    "filename_org = '../../source_data/marketing_sample_for_amazon_com.csv'\n",
    "filename = '../../data/marketing_sample_for_amazon_com_sub.csv'\n",
    "df_catalog = pd.read_csv(filename_org)\n",
    "print(f'Total rows: {len(df_catalog)}')\n",
    "df_catalog = df_catalog.sample(frac=.1).reset_index(drop=True)\n",
    "len(df_catalog)\n",
    "df_catalog.head(2)\n"
   ]
  },
  {
   "cell_type": "markdown",
   "metadata": {},
   "source": [
    "We only need the following columns that contain text-based information for QA application:"
   ]
  },
  {
   "cell_type": "code",
   "execution_count": 8,
   "metadata": {},
   "outputs": [
    {
     "name": "stdout",
     "output_type": "stream",
     "text": [
      "<class 'pandas.core.frame.DataFrame'>\n",
      "RangeIndex: 1000 entries, 0 to 999\n",
      "Data columns (total 4 columns):\n",
      " #   Column             Non-Null Count  Dtype \n",
      "---  ------             --------------  ----- \n",
      " 0   Product Name       1000 non-null   object\n",
      " 1   Category           928 non-null    object\n",
      " 2   Model Number       832 non-null    object\n",
      " 3   Technical Details  924 non-null    object\n",
      "dtypes: object(4)\n",
      "memory usage: 31.4+ KB\n",
      "None\n"
     ]
    }
   ],
   "source": [
    "df_catalog = df_catalog[['Product Name', 'Category', 'Model Number', 'Technical Details']]\n",
    "len(df_catalog)\n",
    "df_catalog\n",
    "print(df_catalog.info())"
   ]
  },
  {
   "cell_type": "markdown",
   "metadata": {},
   "source": [
    "A slight treaming of null values"
   ]
  },
  {
   "cell_type": "code",
   "execution_count": 14,
   "metadata": {},
   "outputs": [
    {
     "data": {
      "text/html": [
       "<div>\n",
       "<style scoped>\n",
       "    .dataframe tbody tr th:only-of-type {\n",
       "        vertical-align: middle;\n",
       "    }\n",
       "\n",
       "    .dataframe tbody tr th {\n",
       "        vertical-align: top;\n",
       "    }\n",
       "\n",
       "    .dataframe thead th {\n",
       "        text-align: right;\n",
       "    }\n",
       "</style>\n",
       "<table border=\"1\" class=\"dataframe\">\n",
       "  <thead>\n",
       "    <tr style=\"text-align: right;\">\n",
       "      <th></th>\n",
       "      <th>Product Name</th>\n",
       "      <th>Category</th>\n",
       "      <th>Model Number</th>\n",
       "      <th>Technical Details</th>\n",
       "    </tr>\n",
       "  </thead>\n",
       "  <tbody>\n",
       "    <tr>\n",
       "      <th>0</th>\n",
       "      <td>Mudpuppy Monsters Cardboard Tube Craft Kit</td>\n",
       "      <td>Toys &amp; Games | Arts &amp; Crafts | Craft Kits | Fe...</td>\n",
       "      <td>9780735343399</td>\n",
       "      <td>Go to your orders and start the return Select ...</td>\n",
       "    </tr>\n",
       "    <tr>\n",
       "      <th>1</th>\n",
       "      <td>MightySkins Skin Compatible with Razor A Kick ...</td>\n",
       "      <td>Sports &amp; Outdoors | Outdoor Recreation | Skate...</td>\n",
       "      <td>RAAKS-Color Bugs</td>\n",
       "      <td>Go to your orders and start the return Select ...</td>\n",
       "    </tr>\n",
       "    <tr>\n",
       "      <th>2</th>\n",
       "      <td>RiverRidge Home Book Nook Collection Kids Cubb...</td>\n",
       "      <td>Home &amp; Kitchen | Furniture | Kids' Furniture |...</td>\n",
       "      <td>02-168K</td>\n",
       "      <td>Color:White With Red Bins RiverRidge Book Nook...</td>\n",
       "    </tr>\n",
       "    <tr>\n",
       "      <th>3</th>\n",
       "      <td>Beast Kingdom Mickey Mouse 90th Anniversary Me...</td>\n",
       "      <td>Not Available</td>\n",
       "      <td>BKDMEA-008-55857</td>\n",
       "      <td>Go to your orders and start the return Select ...</td>\n",
       "    </tr>\n",
       "    <tr>\n",
       "      <th>4</th>\n",
       "      <td>Walthers Cornerstone Hole-In-One Donut Shop Train</td>\n",
       "      <td>Toys &amp; Games | Hobbies | Trains &amp; Accessories ...</td>\n",
       "      <td>Not Available</td>\n",
       "      <td>Not Available</td>\n",
       "    </tr>\n",
       "    <tr>\n",
       "      <th>...</th>\n",
       "      <td>...</td>\n",
       "      <td>...</td>\n",
       "      <td>...</td>\n",
       "      <td>...</td>\n",
       "    </tr>\n",
       "    <tr>\n",
       "      <th>95</th>\n",
       "      <td>Underwraps Baby's Santa Costume</td>\n",
       "      <td>Clothing, Shoes &amp; Jewelry | Costumes &amp; Accesso...</td>\n",
       "      <td>Not Available</td>\n",
       "      <td>This adorable Santa Costume is perfect for Chr...</td>\n",
       "    </tr>\n",
       "    <tr>\n",
       "      <th>96</th>\n",
       "      <td>Water Sports Dive Sticks</td>\n",
       "      <td>Sports &amp; Outdoors | Outdoor Recreation | Water...</td>\n",
       "      <td>820020</td>\n",
       "      <td>Go to your orders and start the return Select ...</td>\n",
       "    </tr>\n",
       "    <tr>\n",
       "      <th>97</th>\n",
       "      <td>Premier Energizer HardCase iPhone Charger Ligh...</td>\n",
       "      <td>Sports &amp; Outdoors | Sports &amp; Fitness | Leisure...</td>\n",
       "      <td>ENG-HCEXT1</td>\n",
       "      <td>Not Available</td>\n",
       "    </tr>\n",
       "    <tr>\n",
       "      <th>98</th>\n",
       "      <td>Käthe Kruse Bunny Buddy Mini Plush Grabbing Wh...</td>\n",
       "      <td>Toys &amp; Games | Stuffed Animals &amp; Plush Toys | ...</td>\n",
       "      <td>0178381</td>\n",
       "      <td>Go to your orders and start the return Select ...</td>\n",
       "    </tr>\n",
       "    <tr>\n",
       "      <th>99</th>\n",
       "      <td>Rec-Tek Over the Door Skeet Hunt Game for Kids...</td>\n",
       "      <td>Not Available</td>\n",
       "      <td>1-1-28572-DS</td>\n",
       "      <td>Go to your orders and start the return Select ...</td>\n",
       "    </tr>\n",
       "  </tbody>\n",
       "</table>\n",
       "<p>100 rows × 4 columns</p>\n",
       "</div>"
      ],
      "text/plain": [
       "                                         Product Name  \\\n",
       "0          Mudpuppy Monsters Cardboard Tube Craft Kit   \n",
       "1   MightySkins Skin Compatible with Razor A Kick ...   \n",
       "2   RiverRidge Home Book Nook Collection Kids Cubb...   \n",
       "3   Beast Kingdom Mickey Mouse 90th Anniversary Me...   \n",
       "4   Walthers Cornerstone Hole-In-One Donut Shop Train   \n",
       "..                                                ...   \n",
       "95                    Underwraps Baby's Santa Costume   \n",
       "96                           Water Sports Dive Sticks   \n",
       "97  Premier Energizer HardCase iPhone Charger Ligh...   \n",
       "98  Käthe Kruse Bunny Buddy Mini Plush Grabbing Wh...   \n",
       "99  Rec-Tek Over the Door Skeet Hunt Game for Kids...   \n",
       "\n",
       "                                             Category      Model Number  \\\n",
       "0   Toys & Games | Arts & Crafts | Craft Kits | Fe...     9780735343399   \n",
       "1   Sports & Outdoors | Outdoor Recreation | Skate...  RAAKS-Color Bugs   \n",
       "2   Home & Kitchen | Furniture | Kids' Furniture |...           02-168K   \n",
       "3                                       Not Available  BKDMEA-008-55857   \n",
       "4   Toys & Games | Hobbies | Trains & Accessories ...     Not Available   \n",
       "..                                                ...               ...   \n",
       "95  Clothing, Shoes & Jewelry | Costumes & Accesso...     Not Available   \n",
       "96  Sports & Outdoors | Outdoor Recreation | Water...            820020   \n",
       "97  Sports & Outdoors | Sports & Fitness | Leisure...        ENG-HCEXT1   \n",
       "98  Toys & Games | Stuffed Animals & Plush Toys | ...           0178381   \n",
       "99                                      Not Available      1-1-28572-DS   \n",
       "\n",
       "                                    Technical Details  \n",
       "0   Go to your orders and start the return Select ...  \n",
       "1   Go to your orders and start the return Select ...  \n",
       "2   Color:White With Red Bins RiverRidge Book Nook...  \n",
       "3   Go to your orders and start the return Select ...  \n",
       "4                                       Not Available  \n",
       "..                                                ...  \n",
       "95  This adorable Santa Costume is perfect for Chr...  \n",
       "96  Go to your orders and start the return Select ...  \n",
       "97                                      Not Available  \n",
       "98  Go to your orders and start the return Select ...  \n",
       "99  Go to your orders and start the return Select ...  \n",
       "\n",
       "[100 rows x 4 columns]"
      ]
     },
     "execution_count": 14,
     "metadata": {},
     "output_type": "execute_result"
    }
   ],
   "source": [
    "# fill na with Not Available string\n",
    "for col in df_catalog.columns:\n",
    "    df_catalog[col] = df_catalog[col].fillna('Not Available')\n",
    "\n",
    "# A subsample of the catalog to have a quick construction of the vector database\n",
    "# You can expand it to the full catalog\n",
    "df_catalog = df_catalog[0:100]\n",
    "df_catalog.to_csv(filename, index=False)\n",
    "df_catalog"
   ]
  },
  {
   "cell_type": "markdown",
   "metadata": {},
   "source": [
    "Converting CSV file columns to document parts"
   ]
  },
  {
   "cell_type": "code",
   "execution_count": 12,
   "metadata": {},
   "outputs": [
    {
     "name": "stdout",
     "output_type": "stream",
     "text": [
      "100\n",
      "\n",
      " A sample product information: \n",
      "\n",
      "('Product Name: Mudpuppy Monsters Cardboard Tube Craft Kit\\n'\n",
      " 'Category: Toys & Games | Arts & Crafts | Craft Kits | Felt Kits\\n'\n",
      " 'Model Number: 9780735343399\\n'\n",
      " 'Technical Details: Go to your orders and start the return Select the ship '\n",
      " 'method Ship it! | Go to your orders and start the return Select the ship '\n",
      " 'method Ship it! | show up to 2 reviews by default Create fun and frightful '\n",
      " \"monsters with Mudpuppy's Monsters Cardboard Tube Craft Kit. Five cardboard \"\n",
      " 'tubes and accompanying craft materials-stickers, pomp oms, googly eyes, and '\n",
      " 'more-make for hours of creativity and imagination with friends and family. '\n",
      " 'An adult should assist with any cutting, but kids will always make the best '\n",
      " 'monsters! Collect tubes from around your home for even more crafting fun. - '\n",
      " 'Tube package: 11.5 in. tall and 3 in. diameter - Roll-and-stick cardboard '\n",
      " 'sheets to create 5 tubes - 80+ pieces including patterned paper, stickers, '\n",
      " 'pomp poms, googly eyes, and shapes to color in! - Cardboard contains 80% '\n",
      " 'recycled paper - Ages 6 and up. | 5.6 ounces (View shipping rates and '\n",
      " 'policies)')\n"
     ]
    }
   ],
   "source": [
    "from langchain_community.document_loaders import CSVLoader\n",
    "\n",
    "loader = CSVLoader(file_path=filename, encoding='utf-8')\n",
    "\n",
    "docs = loader.load()\n",
    "print(len(docs))\n",
    "print('\\n A sample product information: \\n')\n",
    "nprint(docs[0].page_content)"
   ]
  },
  {
   "cell_type": "markdown",
   "metadata": {},
   "source": [
    "## QAGenerator from Langchain\n",
    "We use 5 samples from the catalog to create example question and answer pairs.   \n",
    "The module uses LLM (here OpenAI API) to generate the answers."
   ]
  },
  {
   "cell_type": "code",
   "execution_count": 17,
   "metadata": {},
   "outputs": [
    {
     "name": "stderr",
     "output_type": "stream",
     "text": [
      "d:\\Portfolio\\LLMs Applications\\.llmenv\\Lib\\site-packages\\langchain\\chains\\llm.py:367: UserWarning: The apply_and_parse method is deprecated, instead pass an output parser directly to LLMChain.\n",
      "  warnings.warn(\n"
     ]
    }
   ],
   "source": [
    "from langchain.evaluation.qa import QAGenerateChain\n",
    "from langchain_openai import ChatOpenAI\n",
    "\n",
    "example_gen_chain = QAGenerateChain.from_llm(ChatOpenAI(model=modelID))\n",
    "new_examples = example_gen_chain.apply_and_parse(\n",
    "    [{\"doc\": t} for t in docs[:5]]\n",
    ")"
   ]
  },
  {
   "cell_type": "code",
   "execution_count": 19,
   "metadata": {},
   "outputs": [
    {
     "data": {
      "text/plain": [
       "[{'qa_pairs': {'query': 'What materials are included in the Mudpuppy Monsters Cardboard Tube Craft Kit?',\n",
       "   'answer': 'The Mudpuppy Monsters Cardboard Tube Craft Kit includes stickers, pompoms, googly eyes, patterned paper, and shapes to color in.'}},\n",
       " {'qa_pairs': {'query': 'What are some key features and benefits of the MightySkins Skin Compatible with Razor A Kick Scooter in the Color Bugs design?',\n",
       "   'answer': 'The MightySkins Skin is a vinyl decal wrap cover that is protective, durable, and easy to apply, remove, and change styles. It is designed to protect the Razor A Kick Scooter from scratches, dings, dust, and everyday wear-and-tear. The skin has a matte finish, is ultra-thin, ultra-durable, and stain-resistant. It is made in the USA, backed by a satisfaction guarantee, and does not leave any sticky residue when removed. The product does not include the Razor A Kick Scooter itself.'}},\n",
       " {'qa_pairs': {'query': 'What are the dimensions of the RiverRidge Home Book Nook Collection Kids Cubby Storage Tower with Bookshelves?',\n",
       "   'answer': 'The dimensions of the RiverRidge Home Book Nook Collection Kids Cubby Storage Tower with Bookshelves are as follows: Top of Tower: 17.38”W x 11.81”D, Cubbies: 11”W x 11.75”D x 11”H, Side Shelves: 10.75”W x 2.63”D x 11”H, Bin: 10.5\"L x 10.5\"D x 10\"H.'}},\n",
       " {'qa_pairs': {'query': 'According to the document, what is the product name and model number of the Mickey Mouse figure being described?',\n",
       "   'answer': 'The product name is Beast Kingdom Mickey Mouse 90th Anniversary Mea-008 Steamboat Willie Mini Egg Attack Figure, and the model number is BKDMEA-008-55857.'}},\n",
       " {'qa_pairs': {'query': 'What is the product name of the item listed in the document?',\n",
       "   'answer': 'Walthers Cornerstone Hole-In-One Donut Shop Train'}}]"
      ]
     },
     "execution_count": 19,
     "metadata": {},
     "output_type": "execute_result"
    }
   ],
   "source": [
    "new_examples[0]['qa_pairs']['query']\n",
    "new_examples"
   ]
  },
  {
   "cell_type": "markdown",
   "metadata": {},
   "source": [
    "LLM can also generate invalid questions that can be related to many different products!   \n",
    "**Example**: \"What is the product name of the item listed in the document?\" "
   ]
  },
  {
   "cell_type": "code",
   "execution_count": 20,
   "metadata": {},
   "outputs": [
    {
     "name": "stdout",
     "output_type": "stream",
     "text": [
      "('Product Name: Beast Kingdom Mickey Mouse 90th Anniversary Mea-008 Steamboat '\n",
      " 'Willie Mini Egg Attack Figure, Multicolor\\n'\n",
      " 'Category: Not Available\\n'\n",
      " 'Model Number: BKDMEA-008-55857\\n'\n",
      " 'Technical Details: Go to your orders and start the return Select the ship '\n",
      " 'method Ship it! | Go to your orders and start the return Select the ship '\n",
      " 'method Ship it! | From Beast Kingdom. The global icon Mickey Mouse is '\n",
      " 'turning 90 years old since his first appearance in black-and-white animated '\n",
      " 'short film steamboat Willie in 1928. With his signature big, round Mouse '\n",
      " \"ears and infectious smile, Mickey Mouse is one of the world's most \"\n",
      " 'recognizable cartoon characters. Beast Kingdom is celebrating milestone '\n",
      " 'moments for Mickey Mouse with the 90 years of Mickey classic collection from '\n",
      " 'mean (mini egg attack) series as perfect office desk decor. These exquisite '\n",
      " 'statues are remakes of the iconic Mickey inspired by its most memorable '\n",
      " 'movie roles. They are hand-painted in a vivid and lively way, and will '\n",
      " 'definitely bring Mickey to your daily life from nostalgic cartoons! This '\n",
      " \"series is highly recommended for the Mickey fans like you. Let's celebrate \"\n",
      " \"the Mickey's 90th anniversary together and collect all these commemorative \"\n",
      " 'Mickey statues as wonderful memory of the world most famous Mouse! | 3.52 '\n",
      " 'ounces (View shipping rates and policies)')\n"
     ]
    }
   ],
   "source": [
    "nprint(docs[3].page_content)"
   ]
  },
  {
   "cell_type": "markdown",
   "metadata": {},
   "source": [
    "## Vector Database\n",
    "\n",
    "We use a huggingface sentence-transformers model to create our vector database.   \n",
    "Also, the in-memory vector-storc-reator module from Langchain is used to create a non-persistent vector database."
   ]
  },
  {
   "cell_type": "code",
   "execution_count": 24,
   "metadata": {},
   "outputs": [
    {
     "name": "stdout",
     "output_type": "stream",
     "text": [
      "CPU times: total: 0 ns\n",
      "Wall time: 0 ns\n"
     ]
    }
   ],
   "source": [
    "# Running this cell can take some time depending on the size of your database\n",
    "\n",
    "%time\n",
    "\n",
    "from langchain.indexes import VectorstoreIndexCreator\n",
    "from langchain.embeddings import HuggingFaceEmbeddings\n",
    "from langchain.vectorstores import DocArrayInMemorySearch\n",
    "\n",
    "embed_model_id = 'sentence-transformers/all-mpnet-base-v2'\n",
    "embedding = HuggingFaceEmbeddings(model_name=embed_model_id)\n",
    "\n",
    "# Directly creates a vectorstore in memory and loads the documents into it\n",
    "index = VectorstoreIndexCreator(\n",
    "    vectorstore_cls=DocArrayInMemorySearch,\n",
    "    embedding = embedding\n",
    ").from_loaders([loader])"
   ]
  },
  {
   "cell_type": "markdown",
   "metadata": {},
   "source": [
    "Now this QA retrical chain can answer questions based on the vector database:"
   ]
  },
  {
   "cell_type": "code",
   "execution_count": 25,
   "metadata": {},
   "outputs": [],
   "source": [
    "from langchain_openai import ChatOpenAI\n",
    "from langchain.chains import RetrievalQA\n",
    "\n",
    "llm = ChatOpenAI(temperature = 0.0, model=modelID)\n",
    "qa = RetrievalQA.from_chain_type(\n",
    "    llm=llm, \n",
    "    chain_type=\"stuff\", \n",
    "    retriever=index.vectorstore.as_retriever(), \n",
    "    verbose=True,\n",
    "    chain_type_kwargs = {\n",
    "        \"document_separator\": \"<<<<>>>>>\"\n",
    "    }\n",
    ")"
   ]
  },
  {
   "cell_type": "markdown",
   "metadata": {},
   "source": [
    "## Manual Evaluation of answers:\n",
    "Here we mage a mannual inspection of the quality of the answers.   \n",
    "**Note:** Make sure you use one of the valid questions from the example set."
   ]
  },
  {
   "cell_type": "code",
   "execution_count": 29,
   "metadata": {},
   "outputs": [
    {
     "name": "stdout",
     "output_type": "stream",
     "text": [
      "\u001b[32;1m\u001b[1;3m[chain/start]\u001b[0m \u001b[1m[chain:RetrievalQA] Entering Chain run with input:\n",
      "\u001b[0m{\n",
      "  \"query\": \"According to the document, what is the product name and model number of the Mickey Mouse figure being described?\"\n",
      "}\n",
      "\u001b[32;1m\u001b[1;3m[chain/start]\u001b[0m \u001b[1m[chain:RetrievalQA > chain:StuffDocumentsChain] Entering Chain run with input:\n",
      "\u001b[0m[inputs]\n",
      "\u001b[32;1m\u001b[1;3m[chain/start]\u001b[0m \u001b[1m[chain:RetrievalQA > chain:StuffDocumentsChain > chain:LLMChain] Entering Chain run with input:\n",
      "\u001b[0m{\n",
      "  \"question\": \"According to the document, what is the product name and model number of the Mickey Mouse figure being described?\",\n",
      "  \"context\": \"Product Name: Funko 5 Star: Kingdom Hearts 3 - Mickey\\nCategory: Not Available\\nModel Number: 34563\\nTechnical Details: Go to your orders and start the return Select the ship method Ship it! | Go to your orders and start the return Select the ship method Ship it! | From Kingdom Hearts 3, Mickey, stylized as a 5 Star fom Funko! Figure stands 3 inches tall and comes in a window display box! Collect all Kingdom Hearts 3 product from Funko! | 4.2 ounces (View shipping rates and policies)<<<<>>>>>Product Name: Beast Kingdom Mickey Mouse 90th Anniversary Mea-008 Steamboat Willie Mini Egg Attack Figure, Multicolor\\nCategory: Not Available\\nModel Number: BKDMEA-008-55857<<<<>>>>>Technical Details: Go to your orders and start the return Select the ship method Ship it! | Go to your orders and start the return Select the ship method Ship it! | From Beast Kingdom. The global icon Mickey Mouse is turning 90 years old since his first appearance in black-and-white animated short film steamboat Willie in 1928. With his signature big, round Mouse ears and infectious smile, Mickey Mouse is one of the world's most recognizable cartoon characters. Beast Kingdom is celebrating milestone moments for Mickey Mouse with the 90 years of Mickey classic collection from mean (mini egg attack) series as perfect office desk decor. These exquisite statues are remakes of the iconic Mickey inspired by its most memorable movie roles. They are hand-painted in a vivid and lively way, and will definitely bring Mickey to your daily life from nostalgic cartoons! This series is highly recommended for the Mickey fans like you. Let's celebrate the Mickey's 90th anniversary together and collect<<<<>>>>>Product Name: Viking Toys 1975 Cute Rider Kids Ride On Toy, Bunny, Pink/White\\nCategory: Toys & Games | Toy Figures & Playsets | Action Figures\\nModel Number: 1975\"\n",
      "}\n",
      "\u001b[32;1m\u001b[1;3m[llm/start]\u001b[0m \u001b[1m[chain:RetrievalQA > chain:StuffDocumentsChain > chain:LLMChain > llm:ChatOpenAI] Entering LLM run with input:\n",
      "\u001b[0m{\n",
      "  \"prompts\": [\n",
      "    \"System: Use the following pieces of context to answer the user's question. \\nIf you don't know the answer, just say that you don't know, don't try to make up an answer.\\n----------------\\nProduct Name: Funko 5 Star: Kingdom Hearts 3 - Mickey\\nCategory: Not Available\\nModel Number: 34563\\nTechnical Details: Go to your orders and start the return Select the ship method Ship it! | Go to your orders and start the return Select the ship method Ship it! | From Kingdom Hearts 3, Mickey, stylized as a 5 Star fom Funko! Figure stands 3 inches tall and comes in a window display box! Collect all Kingdom Hearts 3 product from Funko! | 4.2 ounces (View shipping rates and policies)<<<<>>>>>Product Name: Beast Kingdom Mickey Mouse 90th Anniversary Mea-008 Steamboat Willie Mini Egg Attack Figure, Multicolor\\nCategory: Not Available\\nModel Number: BKDMEA-008-55857<<<<>>>>>Technical Details: Go to your orders and start the return Select the ship method Ship it! | Go to your orders and start the return Select the ship method Ship it! | From Beast Kingdom. The global icon Mickey Mouse is turning 90 years old since his first appearance in black-and-white animated short film steamboat Willie in 1928. With his signature big, round Mouse ears and infectious smile, Mickey Mouse is one of the world's most recognizable cartoon characters. Beast Kingdom is celebrating milestone moments for Mickey Mouse with the 90 years of Mickey classic collection from mean (mini egg attack) series as perfect office desk decor. These exquisite statues are remakes of the iconic Mickey inspired by its most memorable movie roles. They are hand-painted in a vivid and lively way, and will definitely bring Mickey to your daily life from nostalgic cartoons! This series is highly recommended for the Mickey fans like you. Let's celebrate the Mickey's 90th anniversary together and collect<<<<>>>>>Product Name: Viking Toys 1975 Cute Rider Kids Ride On Toy, Bunny, Pink/White\\nCategory: Toys & Games | Toy Figures & Playsets | Action Figures\\nModel Number: 1975\\nHuman: According to the document, what is the product name and model number of the Mickey Mouse figure being described?\"\n",
      "  ]\n",
      "}\n",
      "\u001b[36;1m\u001b[1;3m[llm/end]\u001b[0m \u001b[1m[chain:RetrievalQA > chain:StuffDocumentsChain > chain:LLMChain > llm:ChatOpenAI] [1.54s] Exiting LLM run with output:\n",
      "\u001b[0m{\n",
      "  \"generations\": [\n",
      "    [\n",
      "      {\n",
      "        \"text\": \"The product name of the Mickey Mouse figure being described is \\\"Beast Kingdom Mickey Mouse 90th Anniversary Mea-008 Steamboat Willie Mini Egg Attack Figure, Multicolor\\\" and the model number is \\\"BKDMEA-008-55857.\\\"\",\n",
      "        \"generation_info\": {\n",
      "          \"finish_reason\": \"stop\",\n",
      "          \"logprobs\": null\n",
      "        },\n",
      "        \"type\": \"ChatGeneration\",\n",
      "        \"message\": {\n",
      "          \"lc\": 1,\n",
      "          \"type\": \"constructor\",\n",
      "          \"id\": [\n",
      "            \"langchain\",\n",
      "            \"schema\",\n",
      "            \"messages\",\n",
      "            \"AIMessage\"\n",
      "          ],\n",
      "          \"kwargs\": {\n",
      "            \"content\": \"The product name of the Mickey Mouse figure being described is \\\"Beast Kingdom Mickey Mouse 90th Anniversary Mea-008 Steamboat Willie Mini Egg Attack Figure, Multicolor\\\" and the model number is \\\"BKDMEA-008-55857.\\\"\",\n",
      "            \"response_metadata\": {\n",
      "              \"token_usage\": {\n",
      "                \"completion_tokens\": 51,\n",
      "                \"prompt_tokens\": 481,\n",
      "                \"total_tokens\": 532\n",
      "              },\n",
      "              \"model_name\": \"gpt-3.5-turbo\",\n",
      "              \"system_fingerprint\": null,\n",
      "              \"finish_reason\": \"stop\",\n",
      "              \"logprobs\": null\n",
      "            },\n",
      "            \"type\": \"ai\",\n",
      "            \"id\": \"run-455df8df-12a1-4d41-8295-d636b9ce67d6-0\",\n",
      "            \"usage_metadata\": {\n",
      "              \"input_tokens\": 481,\n",
      "              \"output_tokens\": 51,\n",
      "              \"total_tokens\": 532\n",
      "            },\n",
      "            \"tool_calls\": [],\n",
      "            \"invalid_tool_calls\": []\n",
      "          }\n",
      "        }\n",
      "      }\n",
      "    ]\n",
      "  ],\n",
      "  \"llm_output\": {\n",
      "    \"token_usage\": {\n",
      "      \"completion_tokens\": 51,\n",
      "      \"prompt_tokens\": 481,\n",
      "      \"total_tokens\": 532\n",
      "    },\n",
      "    \"model_name\": \"gpt-3.5-turbo\",\n",
      "    \"system_fingerprint\": null\n",
      "  },\n",
      "  \"run\": null\n",
      "}\n",
      "\u001b[36;1m\u001b[1;3m[chain/end]\u001b[0m \u001b[1m[chain:RetrievalQA > chain:StuffDocumentsChain > chain:LLMChain] [1.54s] Exiting Chain run with output:\n",
      "\u001b[0m{\n",
      "  \"text\": \"The product name of the Mickey Mouse figure being described is \\\"Beast Kingdom Mickey Mouse 90th Anniversary Mea-008 Steamboat Willie Mini Egg Attack Figure, Multicolor\\\" and the model number is \\\"BKDMEA-008-55857.\\\"\"\n",
      "}\n",
      "\u001b[36;1m\u001b[1;3m[chain/end]\u001b[0m \u001b[1m[chain:RetrievalQA > chain:StuffDocumentsChain] [1.54s] Exiting Chain run with output:\n",
      "\u001b[0m{\n",
      "  \"output_text\": \"The product name of the Mickey Mouse figure being described is \\\"Beast Kingdom Mickey Mouse 90th Anniversary Mea-008 Steamboat Willie Mini Egg Attack Figure, Multicolor\\\" and the model number is \\\"BKDMEA-008-55857.\\\"\"\n",
      "}\n",
      "\u001b[36;1m\u001b[1;3m[chain/end]\u001b[0m \u001b[1m[chain:RetrievalQA] [1.61s] Exiting Chain run with output:\n",
      "\u001b[0m{\n",
      "  \"result\": \"The product name of the Mickey Mouse figure being described is \\\"Beast Kingdom Mickey Mouse 90th Anniversary Mea-008 Steamboat Willie Mini Egg Attack Figure, Multicolor\\\" and the model number is \\\"BKDMEA-008-55857.\\\"\"\n",
      "}\n"
     ]
    }
   ],
   "source": [
    "import langchain\n",
    "langchain.debug = True\n",
    "i_example = 3\n",
    "answer = qa.run(new_examples[i_example]['qa_pairs']['query'])\n"
   ]
  },
  {
   "cell_type": "code",
   "execution_count": 31,
   "metadata": {},
   "outputs": [
    {
     "name": "stdout",
     "output_type": "stream",
     "text": [
      "('The product name of the Mickey Mouse figure being described is \"Beast '\n",
      " 'Kingdom Mickey Mouse 90th Anniversary Mea-008 Steamboat Willie Mini Egg '\n",
      " 'Attack Figure, Multicolor\" and the model number is \"BKDMEA-008-55857.\"')\n"
     ]
    }
   ],
   "source": [
    "nprint(answer)"
   ]
  },
  {
   "cell_type": "code",
   "execution_count": 32,
   "metadata": {},
   "outputs": [
    {
     "name": "stdout",
     "output_type": "stream",
     "text": [
      "{ 'answer': 'The product name is Beast Kingdom Mickey Mouse 90th Anniversary '\n",
      "            'Mea-008 Steamboat Willie Mini Egg Attack Figure, and the model '\n",
      "            'number is BKDMEA-008-55857.',\n",
      "  'query': 'According to the document, what is the product name and model '\n",
      "           'number of the Mickey Mouse figure being described?'}\n"
     ]
    }
   ],
   "source": [
    "nprint(new_examples[i_example].get('qa_pairs'))"
   ]
  },
  {
   "cell_type": "markdown",
   "metadata": {},
   "source": [
    "## LLM assisted evaluation\n",
    "Both the completion and the example answers are in text format, which is difficult to compare automatically.   \n",
    "Therefore, we use another LLM to automatically interpret and compare RAG results to example answers.   \n",
    "QAEvalChain from Langchain is useful for this purpose."
   ]
  },
  {
   "cell_type": "code",
   "execution_count": 34,
   "metadata": {},
   "outputs": [
    {
     "data": {
      "text/plain": [
       "[{'query': 'What materials are included in the Mudpuppy Monsters Cardboard Tube Craft Kit?',\n",
       "  'answer': 'The Mudpuppy Monsters Cardboard Tube Craft Kit includes stickers, pompoms, googly eyes, patterned paper, and shapes to color in.'},\n",
       " {'query': 'What are some key features and benefits of the MightySkins Skin Compatible with Razor A Kick Scooter in the Color Bugs design?',\n",
       "  'answer': 'The MightySkins Skin is a vinyl decal wrap cover that is protective, durable, and easy to apply, remove, and change styles. It is designed to protect the Razor A Kick Scooter from scratches, dings, dust, and everyday wear-and-tear. The skin has a matte finish, is ultra-thin, ultra-durable, and stain-resistant. It is made in the USA, backed by a satisfaction guarantee, and does not leave any sticky residue when removed. The product does not include the Razor A Kick Scooter itself.'},\n",
       " {'query': 'What are the dimensions of the RiverRidge Home Book Nook Collection Kids Cubby Storage Tower with Bookshelves?',\n",
       "  'answer': 'The dimensions of the RiverRidge Home Book Nook Collection Kids Cubby Storage Tower with Bookshelves are as follows: Top of Tower: 17.38”W x 11.81”D, Cubbies: 11”W x 11.75”D x 11”H, Side Shelves: 10.75”W x 2.63”D x 11”H, Bin: 10.5\"L x 10.5\"D x 10\"H.'},\n",
       " {'query': 'According to the document, what is the product name and model number of the Mickey Mouse figure being described?',\n",
       "  'answer': 'The product name is Beast Kingdom Mickey Mouse 90th Anniversary Mea-008 Steamboat Willie Mini Egg Attack Figure, and the model number is BKDMEA-008-55857.'},\n",
       " {'query': 'What is the product name of the item listed in the document?',\n",
       "  'answer': 'Walthers Cornerstone Hole-In-One Donut Shop Train'}]"
      ]
     },
     "execution_count": 34,
     "metadata": {},
     "output_type": "execute_result"
    }
   ],
   "source": [
    "examples = []\n",
    "for q in new_examples:\n",
    "    examples.append(\n",
    "        q.get('qa_pairs')\n",
    "    )\n",
    "examples   "
   ]
  },
  {
   "cell_type": "code",
   "execution_count": 35,
   "metadata": {},
   "outputs": [
    {
     "name": "stderr",
     "output_type": "stream",
     "text": [
      "d:\\Portfolio\\LLMs Applications\\.llmenv\\Lib\\site-packages\\langchain_core\\_api\\deprecation.py:119: LangChainDeprecationWarning: The method `Chain.apply` was deprecated in langchain 0.1.0 and will be removed in 0.3.0. Use batch instead.\n",
      "  warn_deprecated(\n"
     ]
    },
    {
     "name": "stdout",
     "output_type": "stream",
     "text": [
      "\n",
      "\n",
      "\u001b[1m> Entering new RetrievalQA chain...\u001b[0m\n",
      "\n",
      "\u001b[1m> Finished chain.\u001b[0m\n",
      "\n",
      "\n",
      "\u001b[1m> Entering new RetrievalQA chain...\u001b[0m\n",
      "\n",
      "\u001b[1m> Finished chain.\u001b[0m\n",
      "\n",
      "\n",
      "\u001b[1m> Entering new RetrievalQA chain...\u001b[0m\n",
      "\n",
      "\u001b[1m> Finished chain.\u001b[0m\n",
      "\n",
      "\n",
      "\u001b[1m> Entering new RetrievalQA chain...\u001b[0m\n",
      "\n",
      "\u001b[1m> Finished chain.\u001b[0m\n",
      "\n",
      "\n",
      "\u001b[1m> Entering new RetrievalQA chain...\u001b[0m\n",
      "\n",
      "\u001b[1m> Finished chain.\u001b[0m\n"
     ]
    }
   ],
   "source": [
    "from langchain.evaluation.qa import QAEvalChain\n",
    "langchain.debug = False\n",
    "eval_chain = QAEvalChain.from_llm(llm)\n",
    "predictions = qa.apply(examples)\n",
    "graded_outputs = eval_chain.evaluate(examples, predictions)"
   ]
  },
  {
   "cell_type": "code",
   "execution_count": 36,
   "metadata": {},
   "outputs": [
    {
     "name": "stdout",
     "output_type": "stream",
     "text": [
      "The result of RAG evaluation for the given example questions: \n"
     ]
    },
    {
     "data": {
      "text/plain": [
       "[{'results': 'CORRECT'},\n",
       " {'results': 'CORRECT'},\n",
       " {'results': 'CORRECT'},\n",
       " {'results': 'CORRECT'},\n",
       " {'results': 'INCORRECT'}]"
      ]
     },
     "execution_count": 36,
     "metadata": {},
     "output_type": "execute_result"
    }
   ],
   "source": [
    "print('The result of RAG evaluation for the given example questions: ')\n",
    "graded_outputs"
   ]
  },
  {
   "cell_type": "markdown",
   "metadata": {},
   "source": [
    "Let's have a closer look at the predictions:"
   ]
  },
  {
   "cell_type": "code",
   "execution_count": 38,
   "metadata": {},
   "outputs": [
    {
     "name": "stdout",
     "output_type": "stream",
     "text": [
      "Example 0:\n",
      "Question: What materials are included in the Mudpuppy Monsters Cardboard Tube Craft Kit?\n",
      "('Real Answer: The Mudpuppy Monsters Cardboard Tube Craft Kit includes '\n",
      " 'stickers, pompoms, googly eyes, patterned paper, and shapes to color in.')\n",
      "Predicted Answer: The Mudpuppy Monsters Cardboard Tube Craft Kit includes roll-and-stick cardboard sheets to create 5 tubes, patterned paper, stickers, pompoms, googly eyes, and shapes to color in.\n",
      "Predicted Grade: CORRECT\n",
      "\n",
      "Example 1:\n",
      "Question: What are some key features and benefits of the MightySkins Skin Compatible with Razor A Kick Scooter in the Color Bugs design?\n",
      "('Real Answer: The MightySkins Skin is a vinyl decal wrap cover that is '\n",
      " 'protective, durable, and easy to apply, remove, and change styles. It is '\n",
      " 'designed to protect the Razor A Kick Scooter from scratches, dings, dust, '\n",
      " 'and everyday wear-and-tear. The skin has a matte finish, is ultra-thin, '\n",
      " 'ultra-durable, and stain-resistant. It is made in the USA, backed by a '\n",
      " 'satisfaction guarantee, and does not leave any sticky residue when removed. '\n",
      " 'The product does not include the Razor A Kick Scooter itself.')\n",
      "Predicted Answer: Some key features and benefits of the MightySkins Skin Compatible with Razor A Kick Scooter in the Color Bugs design include:\n",
      "\n",
      "1. **Protection**: The skin protects your Razor A Kick Scooter from scratches, dings, dust, and everyday wear-and-tear.\n",
      "   \n",
      "2. **Style**: The Color Bugs design allows you to show off your unique style and make your scooter stand out from the rest.\n",
      "   \n",
      "3. **Easy Application**: The skin is easy to apply and remove without leaving any sticky residue.\n",
      "   \n",
      "4. **Durable**: Made with high-quality vinyl, the skin is durable and reliable.\n",
      "   \n",
      "5. **Made in the USA**: The skin is proudly made in the USA in a state-of-the-art production facility.\n",
      "\n",
      "These features ensure that your Razor A Kick Scooter stays protected, looks stylish, and stands out while being easy to maintain.\n",
      "Predicted Grade: CORRECT\n",
      "\n",
      "Example 2:\n",
      "Question: What are the dimensions of the RiverRidge Home Book Nook Collection Kids Cubby Storage Tower with Bookshelves?\n",
      "('Real Answer: The dimensions of the RiverRidge Home Book Nook Collection Kids '\n",
      " 'Cubby Storage Tower with Bookshelves are as follows: Top of Tower: 17.38”W x '\n",
      " '11.81”D, Cubbies: 11”W x 11.75”D x 11”H, Side Shelves: 10.75”W x 2.63”D x '\n",
      " '11”H, Bin: 10.5\"L x 10.5\"D x 10\"H.')\n",
      "Predicted Answer: The RiverRidge Home Book Nook Collection Kids Cubby Storage Tower with Bookshelves has the following dimensions:\n",
      "- Top of Tower: 17.38”W x 11.81”D\n",
      "- Cubbies: 11”W x 11.75”D x 11”H\n",
      "- Side Shelves: 10.75”W x 2.63”D x 11”H\n",
      "- Bin: 10.5\"L x 10.5\"D x 10\"H\n",
      "Predicted Grade: CORRECT\n",
      "\n",
      "Example 3:\n",
      "Question: According to the document, what is the product name and model number of the Mickey Mouse figure being described?\n",
      "('Real Answer: The product name is Beast Kingdom Mickey Mouse 90th Anniversary '\n",
      " 'Mea-008 Steamboat Willie Mini Egg Attack Figure, and the model number is '\n",
      " 'BKDMEA-008-55857.')\n",
      "Predicted Answer: The product name of the Mickey Mouse figure being described is \"Beast Kingdom Mickey Mouse 90th Anniversary Mea-008 Steamboat Willie Mini Egg Attack Figure, Multicolor\" and the model number is \"BKDMEA-008-55857.\"\n",
      "Predicted Grade: CORRECT\n",
      "\n",
      "Example 4:\n",
      "Question: What is the product name of the item listed in the document?\n",
      "'Real Answer: Walthers Cornerstone Hole-In-One Donut Shop Train'\n",
      "Predicted Answer: The product name listed in the document is \"Horizon Group USA Colored Wood Stick for Crafting Projects 4800ct, Assorted.\"\n",
      "Predicted Grade: INCORRECT\n",
      "\n"
     ]
    }
   ],
   "source": [
    "for i, eg in enumerate(examples):\n",
    "    print(f\"Example {i}:\")\n",
    "    print(\"Question: \" + predictions[i]['query'])\n",
    "    nprint(\"Real Answer: \" + predictions[i]['answer'])\n",
    "    print(\"Predicted Answer: \" + predictions[i]['result'])\n",
    "    print(\"Predicted Grade: \" + graded_outputs[i]['results'])\n",
    "    print()"
   ]
  },
  {
   "cell_type": "markdown",
   "metadata": {},
   "source": [
    "Based on the above details, the incorrect answers are related to those invalid questions, which were not connected to any specific product."
   ]
  }
 ],
 "metadata": {
  "kernelspec": {
   "display_name": ".llmenv",
   "language": "python",
   "name": "python3"
  },
  "language_info": {
   "codemirror_mode": {
    "name": "ipython",
    "version": 3
   },
   "file_extension": ".py",
   "mimetype": "text/x-python",
   "name": "python",
   "nbconvert_exporter": "python",
   "pygments_lexer": "ipython3",
   "version": "3.12.0"
  }
 },
 "nbformat": 4,
 "nbformat_minor": 2
}
